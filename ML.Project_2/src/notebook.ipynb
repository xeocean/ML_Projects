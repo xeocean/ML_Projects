{
 "cells": [
  {
   "cell_type": "markdown",
   "id": "8895ec24b71b334f",
   "metadata": {},
   "source": [
    "### 1. Вопросы"
   ]
  },
  {
   "cell_type": "markdown",
   "id": "9d429963a15d56cf",
   "metadata": {},
   "source": [
    "1. Аналитическое решение для линейной регрессии\n",
    "\n",
    "Линейная регрессия имеет вид:\n",
    "\n",
    "y = Xw + e, где:\n",
    "\n",
    "y - Вектор целевых значений (размерность m×1),\n",
    "\n",
    "X - Матрица признаков (размерность m×n, где m — количество наблюдений, а n — количество признаков),\n",
    "\n",
    "w - Вектор коэффициентов (размерность n×1)\n",
    "\n",
    "e - Вектор ошибок (размерность m×1)\n",
    "\n",
    "Веса линейной регрессии находятся из принципа минимизации наименьших квадратов:\n",
    "\n",
    "![Формула](data/1a.png)\n",
    "\n",
    "2. Регуляризация L1 и L2\n",
    "\n",
    "Добавление регуляризаций L1 и L2 к функции потерь влияет на процесс оптимизации и характеристики получаемого решения:\n",
    "\n",
    "Регуляризация L1 (Lasso)\n",
    "- Стимулирует разреженность весов (многие коэффициенты становятся равны нулю)\n",
    "- Подходит для отбора наиболее значимых признаков\n",
    "- Применяется, когда важно уменьшить количество активных признаков\n",
    "\n",
    "Регуляризация L2 (Ridge)\n",
    "- Уменьшает веса, но не зануляет их\n",
    "- Делает модель менее чувствительной к небольшим изменениям в данных\n",
    "- Применяется, когда важна стабильность модели, в задачах с высоким уровнем корреляции между признаками.\n",
    "\n",
    "![Оптимизационная задача с регуляризацией](data/1b.png)\n",
    "\n",
    "3. Регуляризация L1, отбор признаков\n",
    "\n",
    "L1-регуляризация (Lasso) часто используется для выбора признаков, потому что она создаёт разреженность весов — многие коэффициенты становятся точно равны нулю, вследствие чего, удаляются неинформативные признаки\n",
    "\n",
    "![L1-регуляризация (Lasso)](data/1c.png)\n",
    "\n",
    "4. Подгонка нелинейных зависимостей\n",
    "\n",
    "Чтобы использовать линейные модели (линейная регрессия, гребневая регрессия, кластерная регрессия...) для аппроксимации (приближения) нелинейных зависимостей, можно применять несколько методов:\n",
    "- Добавить полиномиальные признаки (PolynomialFeatures) - расширяет исходные признаки, добавляя их степени и взаимодействия\n",
    "- Использовать сплайны (SplineTransformer) - разбивает диапазон значений признаков на интервалы и аппроксимирует их с помощью кусочно-полиномиальных функций\n",
    "- Использовать ядерные методы (например, KernelRidge) - неявно переводит данные в более высокое пространство, где зависимость уже становится линейной"
   ]
  },
  {
   "cell_type": "markdown",
   "id": "655c47226f3c146b",
   "metadata": {},
   "source": [
    "### 2. Введение"
   ]
  },
  {
   "cell_type": "code",
   "execution_count": 221,
   "id": "2b2e6d8a5c1d0de7",
   "metadata": {
    "ExecuteTime": {
     "end_time": "2025-03-05T11:04:29.725052Z",
     "start_time": "2025-03-05T11:04:29.722090Z"
    }
   },
   "outputs": [],
   "source": [
    "from collections import Counter\n",
    "import pandas as pd\n",
    "import numpy as np\n",
    "import matplotlib.pyplot as plt\n",
    "import seaborn as sns\n",
    "from sklearn.linear_model import LinearRegression, Ridge, Lasso, ElasticNet\n",
    "from sklearn.model_selection import train_test_split\n",
    "from sklearn.metrics import r2_score, mean_squared_error, mean_absolute_error\n",
    "from sklearn.preprocessing import MinMaxScaler, StandardScaler, PolynomialFeatures\n",
    "import warnings"
   ]
  },
  {
   "cell_type": "code",
   "execution_count": 222,
   "id": "7be6b49674e9797b",
   "metadata": {
    "ExecuteTime": {
     "end_time": "2025-03-05T11:04:31.033435Z",
     "start_time": "2025-03-05T11:04:30.006539Z"
    }
   },
   "outputs": [
    {
     "data": {
      "text/html": [
       "<div>\n",
       "<style scoped>\n",
       "    .dataframe tbody tr th:only-of-type {\n",
       "        vertical-align: middle;\n",
       "    }\n",
       "\n",
       "    .dataframe tbody tr th {\n",
       "        vertical-align: top;\n",
       "    }\n",
       "\n",
       "    .dataframe thead th {\n",
       "        text-align: right;\n",
       "    }\n",
       "</style>\n",
       "<table border=\"1\" class=\"dataframe\">\n",
       "  <thead>\n",
       "    <tr style=\"text-align: right;\">\n",
       "      <th></th>\n",
       "      <th>bathrooms</th>\n",
       "      <th>bedrooms</th>\n",
       "      <th>building_id</th>\n",
       "      <th>created</th>\n",
       "      <th>description</th>\n",
       "      <th>display_address</th>\n",
       "      <th>features</th>\n",
       "      <th>latitude</th>\n",
       "      <th>listing_id</th>\n",
       "      <th>longitude</th>\n",
       "      <th>manager_id</th>\n",
       "      <th>photos</th>\n",
       "      <th>price</th>\n",
       "      <th>street_address</th>\n",
       "      <th>interest_level</th>\n",
       "    </tr>\n",
       "  </thead>\n",
       "  <tbody>\n",
       "    <tr>\n",
       "      <th>4</th>\n",
       "      <td>1.0</td>\n",
       "      <td>1</td>\n",
       "      <td>8579a0b0d54db803821a35a4a615e97a</td>\n",
       "      <td>2016-06-16 05:55:27</td>\n",
       "      <td>Spacious 1 Bedroom 1 Bathroom in Williamsburg!Apartment Features:- Renovated Eat in Kitchen With Dishwasher- Renovated Bathroom- Beautiful Hardwood Floors- Lots of Sunlight- Great Closet Space- Freshly Painted- Heat and Hot Water Included- Live in Super Nearby L, J, M &amp; G Trains !&lt;br /&gt;&lt;br /&gt;Contact Information:Kenneth BeakExclusive AgentC: 064-692-8838Email: kagglemanager@renthop.com, Text or Email to schedule a private viewing!&lt;br /&gt;&lt;br /&gt;&lt;br /&gt;&lt;br /&gt;&lt;br /&gt;&lt;br /&gt;&lt;br /&gt;&lt;br /&gt;&lt;br /&gt;&lt;br /&gt;&lt;br /&gt;&lt;br /&gt;&lt;br /&gt;&lt;br /&gt;&lt;br /&gt;&lt;br /&gt;&lt;p&gt;&lt;a  website_redacted</td>\n",
       "      <td>145 Borinquen Place</td>\n",
       "      <td>[Dining Room, Pre-War, Laundry in Building, Dishwasher, Hardwood Floors, Dogs Allowed, Cats Allowed]</td>\n",
       "      <td>40.7108</td>\n",
       "      <td>7170325</td>\n",
       "      <td>-73.9539</td>\n",
       "      <td>a10db4590843d78c784171a107bdacb4</td>\n",
       "      <td>[https://photos.renthop.com/2/7170325_3bb5ac84a5a10227b17b273e79bd77b4.jpg, https://photos.renthop.com/2/7170325_a29a17a771ee6af213966699b05c8ea2.jpg, https://photos.renthop.com/2/7170325_149a898e8760cac1cad56e30cfe98baa.jpg, https://photos.renthop.com/2/7170325_f74a43d781bcc3c5588e61dd47de81ba.jpg, https://photos.renthop.com/2/7170325_e677d9d249ac99abe01aa5454c6e9f59.jpg, https://photos.renthop.com/2/7170325_960ea0e180bf2f15467b68b455db6172.jpg, https://photos.renthop.com/2/7170325_cbc1b8437155dbf7f5d63b3a0b5a45a3.jpg, https://photos.renthop.com/2/7170325_9a9f2adc2ce922e1d5394727efdf64bb.jpg, https://photos.renthop.com/2/7170325_aae2a39d536103eebb282775fab1c315.jpg, https://photos.renthop.com/2/7170325_cd290d0051b9f08e3482195dcbf6b5a6.jpg, https://photos.renthop.com/2/7170325_a2b599da7880eea1edd10c4b04250dc1.jpg, https://photos.renthop.com/2/7170325_6b83fa82d662bcb09733ac3a8a107113.jpg]</td>\n",
       "      <td>2400</td>\n",
       "      <td>145 Borinquen Place</td>\n",
       "      <td>medium</td>\n",
       "    </tr>\n",
       "    <tr>\n",
       "      <th>6</th>\n",
       "      <td>1.0</td>\n",
       "      <td>2</td>\n",
       "      <td>b8e75fc949a6cd8225b455648a951712</td>\n",
       "      <td>2016-06-01 05:44:33</td>\n",
       "      <td>BRAND NEW GUT RENOVATED TRUE 2 BEDROOMFind yourself and your home in the center of it all. Steps from Grand Central Station, at the epicenter of Manhattan, The Centra combines convenience and luxury to create a perfectly balanced living experience. Offering newly renovated over sized apartment layouts.&lt;br /&gt;&lt;br /&gt;Full Time DoormanElevatorNewly Renovated HallwaysLaundry in BuildingOn-Site Parking Garage&lt;br /&gt;&lt;br /&gt;I operate with the utmost care and integrity. The client is my #1 priority. Contact me for a viewing of the great apartment, I'm more than confident we'll find a place for you to call home.Call/Text Keon: Email: If you require a move within 30 days write \"URGENT\" in the subject email or text message to be taken with high priority.&lt;br /&gt;&lt;br /&gt;One Month Free - net effective rent listed&lt;p&gt;&lt;a  website_redacted</td>\n",
       "      <td>East 44th</td>\n",
       "      <td>[Doorman, Elevator, Laundry in Building, Dishwasher, Hardwood Floors, No Fee]</td>\n",
       "      <td>40.7513</td>\n",
       "      <td>7092344</td>\n",
       "      <td>-73.9722</td>\n",
       "      <td>955db33477af4f40004820b4aed804a0</td>\n",
       "      <td>[https://photos.renthop.com/2/7092344_7663c19af02c46104bc4c569f7162ae0.jpg, https://photos.renthop.com/2/7092344_8287349abe511d195a7b6129bf24af0e.jpg, https://photos.renthop.com/2/7092344_e9e6a2b7aa95aa7564fe3318cadcf4e7.jpg, https://photos.renthop.com/2/7092344_d51ee4b92fd9246633f93afe6e86d8f0.jpg, https://photos.renthop.com/2/7092344_f0573fa184ca130b1b6000f2fa90511c.jpg, https://photos.renthop.com/2/7092344_b2a62f769a59a317b0a243000db46fd0.jpg]</td>\n",
       "      <td>3800</td>\n",
       "      <td>230 East 44th</td>\n",
       "      <td>low</td>\n",
       "    </tr>\n",
       "    <tr>\n",
       "      <th>9</th>\n",
       "      <td>1.0</td>\n",
       "      <td>2</td>\n",
       "      <td>cd759a988b8f23924b5a2058d5ab2b49</td>\n",
       "      <td>2016-06-14 15:19:59</td>\n",
       "      <td>**FLEX 2 BEDROOM WITH FULL PRESSURIZED WALL**Looking for the perfect apartment in Midtown East - Sutton Place? Come check out the beautiful apartment in this prime location! **Mid 50's and 1st Ave** Elevator Building with 24-hour doorman, laundry room, and bike room!LARGE living space with King Bedroom!Beautiful large kitchen with stainless steel appliances including dishwasher! Stunning modern bathroom! Ample amount of closet space throughout entire apartment, and enough space to fit everything you need and more! Apartment is in short distance to all shops, restaurants, and public transportation (E,M, 6 Trains). Don't miss out on this great apartment so act quick! Call/Text Edan (855-650-2204 to schedule a private viewing today!&lt;br /&gt;&lt;br /&gt;&lt;br /&gt;&lt;br /&gt;&lt;br /&gt;&lt;br /&gt;&lt;p&gt;&lt;a  website_redacted</td>\n",
       "      <td>East 56th Street</td>\n",
       "      <td>[Doorman, Elevator, Laundry in Building, Laundry in Unit, Dishwasher, Hardwood Floors]</td>\n",
       "      <td>40.7575</td>\n",
       "      <td>7158677</td>\n",
       "      <td>-73.9625</td>\n",
       "      <td>c8b10a317b766204f08e613cef4ce7a0</td>\n",
       "      <td>[https://photos.renthop.com/2/7158677_c897a134b77dc1c772a663874da69315.jpg, https://photos.renthop.com/2/7158677_cbf67ce22b270aeefe274de0e3767e5f.jpg, https://photos.renthop.com/2/7158677_c10b443e36a92a8db1d3c52b955045f0.jpg, https://photos.renthop.com/2/7158677_96705ca1b7fa414863eacf7d5050c544.jpg, https://photos.renthop.com/2/7158677_b994d4d8ec48f9ec099511883eb5fe9c.jpg, https://photos.renthop.com/2/7158677_d577322b9e7cd1ed16a301917db9cd90.jpg]</td>\n",
       "      <td>3495</td>\n",
       "      <td>405 East 56th Street</td>\n",
       "      <td>medium</td>\n",
       "    </tr>\n",
       "    <tr>\n",
       "      <th>10</th>\n",
       "      <td>1.5</td>\n",
       "      <td>3</td>\n",
       "      <td>53a5b119ba8f7b61d4e010512e0dfc85</td>\n",
       "      <td>2016-06-24 07:54:24</td>\n",
       "      <td>A Brand New 3 Bedroom 1.5 bath ApartmentEnjoy These Following Apartment Features As You Rent Here? Modern Designed Bathroom w/ a Deep Spa Soaking Tub? Room to Room AC/Heat? Real Oak Hardwood Floors? Rain Forest Shower Head? SS steel Appliances w/ Chef Gas Cook Oven &amp; LG Fridge? washer /dryer in the apt? Cable Internet Ready? Granite Counter Top Kitchen w/ lot of cabinet storage spaceIt's Just A Few blocks To L Train&lt;br /&gt;&lt;br /&gt;Don't miss out!&lt;br /&gt;&lt;br /&gt;We have several great apartments in the immediate area.&lt;br /&gt;&lt;br /&gt;For additional information 687-878-2229&lt;p&gt;&lt;a  website_redacted</td>\n",
       "      <td>Metropolitan Avenue</td>\n",
       "      <td>[]</td>\n",
       "      <td>40.7145</td>\n",
       "      <td>7211212</td>\n",
       "      <td>-73.9425</td>\n",
       "      <td>5ba989232d0489da1b5f2c45f6688adc</td>\n",
       "      <td>[https://photos.renthop.com/2/7211212_1ed4542ec81621d70d1061aa833e669c.jpg, https://photos.renthop.com/2/7211212_7dfc41dced69245065df83d08eed4a00.jpg, https://photos.renthop.com/2/7211212_c17853c4b869af6f53af08b0f5820b4c.jpg, https://photos.renthop.com/2/7211212_787ad8ea0c089792e7453e2121f8ac89.jpg, https://photos.renthop.com/2/7211212_2e88b0d293ee333c804c2f00536eee49.jpg]</td>\n",
       "      <td>3000</td>\n",
       "      <td>792 Metropolitan Avenue</td>\n",
       "      <td>medium</td>\n",
       "    </tr>\n",
       "    <tr>\n",
       "      <th>15</th>\n",
       "      <td>1.0</td>\n",
       "      <td>0</td>\n",
       "      <td>bfb9405149bfff42a92980b594c28234</td>\n",
       "      <td>2016-06-28 03:50:23</td>\n",
       "      <td>Over-sized Studio w abundant closets. Available Immediately.&lt;br /&gt;&lt;br /&gt;Rent Stabilized. Shares: Case By Case. Minimum Term: 12 months. Income Required: 45x Rent. Guarantors Allowed.Guarantors Income Required: 75x Rent. No Corporate Guarantors.&lt;br /&gt;&lt;br /&gt;DERRICK OMANE 232-463-6268 kagglemanager@renthop.com&lt;br /&gt;&lt;br /&gt;&lt;p&gt;&lt;a  website_redacted</td>\n",
       "      <td>East 34th Street</td>\n",
       "      <td>[Doorman, Elevator, Fitness Center, Laundry in Building]</td>\n",
       "      <td>40.7439</td>\n",
       "      <td>7225292</td>\n",
       "      <td>-73.9743</td>\n",
       "      <td>2c3b41f588fbb5234d8a1e885a436cfa</td>\n",
       "      <td>[https://photos.renthop.com/2/7225292_901f19847d2db115feda6e7a6b6ba08b.jpg, https://photos.renthop.com/2/7225292_2417e0e19ed8c287fdd3d85f70da8890.jpg, https://photos.renthop.com/2/7225292_78168e2a33b3c9a31b176719be20f1df.jpg, https://photos.renthop.com/2/7225292_e949950c049e6b9b07d3bc055e095d50.jpg]</td>\n",
       "      <td>2795</td>\n",
       "      <td>340 East 34th Street</td>\n",
       "      <td>low</td>\n",
       "    </tr>\n",
       "  </tbody>\n",
       "</table>\n",
       "</div>"
      ],
      "text/plain": [
       "    bathrooms  bedrooms                       building_id  \\\n",
       "4         1.0         1  8579a0b0d54db803821a35a4a615e97a   \n",
       "6         1.0         2  b8e75fc949a6cd8225b455648a951712   \n",
       "9         1.0         2  cd759a988b8f23924b5a2058d5ab2b49   \n",
       "10        1.5         3  53a5b119ba8f7b61d4e010512e0dfc85   \n",
       "15        1.0         0  bfb9405149bfff42a92980b594c28234   \n",
       "\n",
       "                created  \\\n",
       "4   2016-06-16 05:55:27   \n",
       "6   2016-06-01 05:44:33   \n",
       "9   2016-06-14 15:19:59   \n",
       "10  2016-06-24 07:54:24   \n",
       "15  2016-06-28 03:50:23   \n",
       "\n",
       "                                                                                                                                                                                                                                                                                                                                                                                                                                                                                                                                                                                                                                                                                                                                                                                                                                                    description  \\\n",
       "4                                                                                                                                                                                                                                                                                     Spacious 1 Bedroom 1 Bathroom in Williamsburg!Apartment Features:- Renovated Eat in Kitchen With Dishwasher- Renovated Bathroom- Beautiful Hardwood Floors- Lots of Sunlight- Great Closet Space- Freshly Painted- Heat and Hot Water Included- Live in Super Nearby L, J, M & G Trains !<br /><br />Contact Information:Kenneth BeakExclusive AgentC: 064-692-8838Email: kagglemanager@renthop.com, Text or Email to schedule a private viewing!<br /><br /><br /><br /><br /><br /><br /><br /><br /><br /><br /><br /><br /><br /><br /><br /><p><a  website_redacted    \n",
       "6   BRAND NEW GUT RENOVATED TRUE 2 BEDROOMFind yourself and your home in the center of it all. Steps from Grand Central Station, at the epicenter of Manhattan, The Centra combines convenience and luxury to create a perfectly balanced living experience. Offering newly renovated over sized apartment layouts.<br /><br />Full Time DoormanElevatorNewly Renovated HallwaysLaundry in BuildingOn-Site Parking Garage<br /><br />I operate with the utmost care and integrity. The client is my #1 priority. Contact me for a viewing of the great apartment, I'm more than confident we'll find a place for you to call home.Call/Text Keon: Email: If you require a move within 30 days write \"URGENT\" in the subject email or text message to be taken with high priority.<br /><br />One Month Free - net effective rent listed<p><a  website_redacted    \n",
       "9                               **FLEX 2 BEDROOM WITH FULL PRESSURIZED WALL**Looking for the perfect apartment in Midtown East - Sutton Place? Come check out the beautiful apartment in this prime location! **Mid 50's and 1st Ave** Elevator Building with 24-hour doorman, laundry room, and bike room!LARGE living space with King Bedroom!Beautiful large kitchen with stainless steel appliances including dishwasher! Stunning modern bathroom! Ample amount of closet space throughout entire apartment, and enough space to fit everything you need and more! Apartment is in short distance to all shops, restaurants, and public transportation (E,M, 6 Trains). Don't miss out on this great apartment so act quick! Call/Text Edan (855-650-2204 to schedule a private viewing today!<br /><br /><br /><br /><br /><br /><p><a  website_redacted    \n",
       "10                                                                                                                                                                                                                                                 A Brand New 3 Bedroom 1.5 bath ApartmentEnjoy These Following Apartment Features As You Rent Here? Modern Designed Bathroom w/ a Deep Spa Soaking Tub? Room to Room AC/Heat? Real Oak Hardwood Floors? Rain Forest Shower Head? SS steel Appliances w/ Chef Gas Cook Oven & LG Fridge? washer /dryer in the apt? Cable Internet Ready? Granite Counter Top Kitchen w/ lot of cabinet storage spaceIt's Just A Few blocks To L Train<br /><br />Don't miss out!<br /><br />We have several great apartments in the immediate area.<br /><br />For additional information 687-878-2229<p><a  website_redacted    \n",
       "15                                                                                                                                                                                                                                                                                                                                                                                                                                                                                                     Over-sized Studio w abundant closets. Available Immediately.<br /><br />Rent Stabilized. Shares: Case By Case. Minimum Term: 12 months. Income Required: 45x Rent. Guarantors Allowed.Guarantors Income Required: 75x Rent. No Corporate Guarantors.<br /><br />DERRICK OMANE 232-463-6268 kagglemanager@renthop.com<br /><br /><p><a  website_redacted    \n",
       "\n",
       "        display_address  \\\n",
       "4   145 Borinquen Place   \n",
       "6             East 44th   \n",
       "9      East 56th Street   \n",
       "10  Metropolitan Avenue   \n",
       "15     East 34th Street   \n",
       "\n",
       "                                                                                                features  \\\n",
       "4   [Dining Room, Pre-War, Laundry in Building, Dishwasher, Hardwood Floors, Dogs Allowed, Cats Allowed]   \n",
       "6                          [Doorman, Elevator, Laundry in Building, Dishwasher, Hardwood Floors, No Fee]   \n",
       "9                 [Doorman, Elevator, Laundry in Building, Laundry in Unit, Dishwasher, Hardwood Floors]   \n",
       "10                                                                                                    []   \n",
       "15                                              [Doorman, Elevator, Fitness Center, Laundry in Building]   \n",
       "\n",
       "    latitude  listing_id  longitude                        manager_id  \\\n",
       "4    40.7108     7170325   -73.9539  a10db4590843d78c784171a107bdacb4   \n",
       "6    40.7513     7092344   -73.9722  955db33477af4f40004820b4aed804a0   \n",
       "9    40.7575     7158677   -73.9625  c8b10a317b766204f08e613cef4ce7a0   \n",
       "10   40.7145     7211212   -73.9425  5ba989232d0489da1b5f2c45f6688adc   \n",
       "15   40.7439     7225292   -73.9743  2c3b41f588fbb5234d8a1e885a436cfa   \n",
       "\n",
       "                                                                                                                                                                                                                                                                                                                                                                                                                                                                                                                                                                                                                                                                                                                                                                                                                                                                                                                                  photos  \\\n",
       "4   [https://photos.renthop.com/2/7170325_3bb5ac84a5a10227b17b273e79bd77b4.jpg, https://photos.renthop.com/2/7170325_a29a17a771ee6af213966699b05c8ea2.jpg, https://photos.renthop.com/2/7170325_149a898e8760cac1cad56e30cfe98baa.jpg, https://photos.renthop.com/2/7170325_f74a43d781bcc3c5588e61dd47de81ba.jpg, https://photos.renthop.com/2/7170325_e677d9d249ac99abe01aa5454c6e9f59.jpg, https://photos.renthop.com/2/7170325_960ea0e180bf2f15467b68b455db6172.jpg, https://photos.renthop.com/2/7170325_cbc1b8437155dbf7f5d63b3a0b5a45a3.jpg, https://photos.renthop.com/2/7170325_9a9f2adc2ce922e1d5394727efdf64bb.jpg, https://photos.renthop.com/2/7170325_aae2a39d536103eebb282775fab1c315.jpg, https://photos.renthop.com/2/7170325_cd290d0051b9f08e3482195dcbf6b5a6.jpg, https://photos.renthop.com/2/7170325_a2b599da7880eea1edd10c4b04250dc1.jpg, https://photos.renthop.com/2/7170325_6b83fa82d662bcb09733ac3a8a107113.jpg]   \n",
       "6                                                                                                                                                                                                                                                                                                                                                                                                                                                                     [https://photos.renthop.com/2/7092344_7663c19af02c46104bc4c569f7162ae0.jpg, https://photos.renthop.com/2/7092344_8287349abe511d195a7b6129bf24af0e.jpg, https://photos.renthop.com/2/7092344_e9e6a2b7aa95aa7564fe3318cadcf4e7.jpg, https://photos.renthop.com/2/7092344_d51ee4b92fd9246633f93afe6e86d8f0.jpg, https://photos.renthop.com/2/7092344_f0573fa184ca130b1b6000f2fa90511c.jpg, https://photos.renthop.com/2/7092344_b2a62f769a59a317b0a243000db46fd0.jpg]   \n",
       "9                                                                                                                                                                                                                                                                                                                                                                                                                                                                     [https://photos.renthop.com/2/7158677_c897a134b77dc1c772a663874da69315.jpg, https://photos.renthop.com/2/7158677_cbf67ce22b270aeefe274de0e3767e5f.jpg, https://photos.renthop.com/2/7158677_c10b443e36a92a8db1d3c52b955045f0.jpg, https://photos.renthop.com/2/7158677_96705ca1b7fa414863eacf7d5050c544.jpg, https://photos.renthop.com/2/7158677_b994d4d8ec48f9ec099511883eb5fe9c.jpg, https://photos.renthop.com/2/7158677_d577322b9e7cd1ed16a301917db9cd90.jpg]   \n",
       "10                                                                                                                                                                                                                                                                                                                                                                                                                                                                                                                                               [https://photos.renthop.com/2/7211212_1ed4542ec81621d70d1061aa833e669c.jpg, https://photos.renthop.com/2/7211212_7dfc41dced69245065df83d08eed4a00.jpg, https://photos.renthop.com/2/7211212_c17853c4b869af6f53af08b0f5820b4c.jpg, https://photos.renthop.com/2/7211212_787ad8ea0c089792e7453e2121f8ac89.jpg, https://photos.renthop.com/2/7211212_2e88b0d293ee333c804c2f00536eee49.jpg]   \n",
       "15                                                                                                                                                                                                                                                                                                                                                                                                                                                                                                                                                                                                                          [https://photos.renthop.com/2/7225292_901f19847d2db115feda6e7a6b6ba08b.jpg, https://photos.renthop.com/2/7225292_2417e0e19ed8c287fdd3d85f70da8890.jpg, https://photos.renthop.com/2/7225292_78168e2a33b3c9a31b176719be20f1df.jpg, https://photos.renthop.com/2/7225292_e949950c049e6b9b07d3bc055e095d50.jpg]   \n",
       "\n",
       "    price           street_address interest_level  \n",
       "4    2400      145 Borinquen Place         medium  \n",
       "6    3800            230 East 44th            low  \n",
       "9    3495     405 East 56th Street         medium  \n",
       "10   3000  792 Metropolitan Avenue         medium  \n",
       "15   2795     340 East 34th Street            low  "
      ]
     },
     "execution_count": 222,
     "metadata": {},
     "output_type": "execute_result"
    }
   ],
   "source": [
    "df = pd.read_json('data/train.json')\n",
    "df.head()"
   ]
  },
  {
   "cell_type": "markdown",
   "id": "220f17ee94ec4811",
   "metadata": {},
   "source": [
    "### 3. Вводный анализ данных"
   ]
  },
  {
   "cell_type": "code",
   "execution_count": 224,
   "id": "61d31b0b28a8b6a0",
   "metadata": {
    "ExecuteTime": {
     "end_time": "2025-03-05T11:04:31.046636Z",
     "start_time": "2025-03-05T11:04:31.038423Z"
    }
   },
   "outputs": [],
   "source": [
    "# for index in df.index:\n",
    "#     feature_value = df.at[index, 'features']\n",
    "#     cleaned_value = str(feature_value).replace('[', '').replace(']', '').replace(\"'\", '').replace('\"', '').replace(' ', '')\n",
    "#     df.at[index, 'features'] = cleaned_value\n",
    "# \n",
    "# features_list = []\n",
    "# features = df['features']\n",
    "# for row in features:\n",
    "#     for feature in row.split(','):\n",
    "#         features_list.append(feature)\n",
    "# \n",
    "# print(features_list[:10])"
   ]
  },
  {
   "cell_type": "code",
   "execution_count": 225,
   "id": "2c62461cfe6234d5",
   "metadata": {
    "ExecuteTime": {
     "end_time": "2025-03-05T11:04:31.075054Z",
     "start_time": "2025-03-05T11:04:31.048164Z"
    }
   },
   "outputs": [
    {
     "name": "stdout",
     "output_type": "stream",
     "text": [
      "['Dining Room', 'Pre-War', 'Laundry in Building', 'Dishwasher', 'Hardwood Floors', 'Dogs Allowed', 'Cats Allowed', 'Doorman', 'Elevator', 'Laundry in Building', 'Dishwasher', 'Hardwood Floors', 'No Fee', 'Doorman', 'Elevator', 'Laundry in Building', 'Laundry in Unit', 'Dishwasher', 'Hardwood Floors', 'Doorman']\n"
     ]
    }
   ],
   "source": [
    "features = df['features']\n",
    "features_list = [feature_name for feature in features for feature_name in feature]\n",
    "print(features_list[:20])"
   ]
  },
  {
   "cell_type": "code",
   "execution_count": 226,
   "id": "95aee16e98d2b086",
   "metadata": {
    "ExecuteTime": {
     "end_time": "2025-03-05T11:04:31.089318Z",
     "start_time": "2025-03-05T11:04:31.076062Z"
    }
   },
   "outputs": [
    {
     "name": "stdout",
     "output_type": "stream",
     "text": [
      "Unique values: 1556\n"
     ]
    }
   ],
   "source": [
    "print(f'Unique values: {len(set(features_list))}')"
   ]
  },
  {
   "cell_type": "code",
   "execution_count": 227,
   "id": "2dda0839683dd8e0",
   "metadata": {
    "ExecuteTime": {
     "end_time": "2025-03-05T11:04:31.120136Z",
     "start_time": "2025-03-05T11:04:31.090318Z"
    }
   },
   "outputs": [
    {
     "data": {
      "text/plain": [
       "[('Elevator', 25915),\n",
       " ('Cats Allowed', 23540),\n",
       " ('Hardwood Floors', 23527),\n",
       " ('Dogs Allowed', 22035),\n",
       " ('Doorman', 20898),\n",
       " ('Dishwasher', 20426),\n",
       " ('No Fee', 18062),\n",
       " ('Laundry in Building', 16344),\n",
       " ('Fitness Center', 13252),\n",
       " ('Pre-War', 9148),\n",
       " ('Laundry in Unit', 8738),\n",
       " ('Roof Deck', 6542),\n",
       " ('Outdoor Space', 5268),\n",
       " ('Dining Room', 5136),\n",
       " ('High Speed Internet', 4299),\n",
       " ('Balcony', 2992),\n",
       " ('Swimming Pool', 2730),\n",
       " ('Laundry In Building', 2593),\n",
       " ('New Construction', 2559),\n",
       " ('Terrace', 2283)]"
      ]
     },
     "execution_count": 227,
     "metadata": {},
     "output_type": "execute_result"
    }
   ],
   "source": [
    "counter = Counter(features_list)\n",
    "counter.most_common(20)"
   ]
  },
  {
   "cell_type": "code",
   "execution_count": 228,
   "id": "1928f9fc36347946",
   "metadata": {
    "ExecuteTime": {
     "end_time": "2025-03-05T11:04:31.517752Z",
     "start_time": "2025-03-05T11:04:31.121132Z"
    }
   },
   "outputs": [
    {
     "data": {
      "text/html": [
       "<div>\n",
       "<style scoped>\n",
       "    .dataframe tbody tr th:only-of-type {\n",
       "        vertical-align: middle;\n",
       "    }\n",
       "\n",
       "    .dataframe tbody tr th {\n",
       "        vertical-align: top;\n",
       "    }\n",
       "\n",
       "    .dataframe thead th {\n",
       "        text-align: right;\n",
       "    }\n",
       "</style>\n",
       "<table border=\"1\" class=\"dataframe\">\n",
       "  <thead>\n",
       "    <tr style=\"text-align: right;\">\n",
       "      <th></th>\n",
       "      <th>bathrooms</th>\n",
       "      <th>bedrooms</th>\n",
       "      <th>interest_level</th>\n",
       "      <th>features</th>\n",
       "      <th>Elevator</th>\n",
       "      <th>Cats Allowed</th>\n",
       "      <th>Hardwood Floors</th>\n",
       "      <th>Dogs Allowed</th>\n",
       "      <th>Doorman</th>\n",
       "      <th>Dishwasher</th>\n",
       "      <th>...</th>\n",
       "      <th>Laundry in Unit</th>\n",
       "      <th>Roof Deck</th>\n",
       "      <th>Outdoor Space</th>\n",
       "      <th>Dining Room</th>\n",
       "      <th>High Speed Internet</th>\n",
       "      <th>Balcony</th>\n",
       "      <th>Swimming Pool</th>\n",
       "      <th>Laundry In Building</th>\n",
       "      <th>New Construction</th>\n",
       "      <th>Terrace</th>\n",
       "    </tr>\n",
       "  </thead>\n",
       "  <tbody>\n",
       "    <tr>\n",
       "      <th>4</th>\n",
       "      <td>1.0</td>\n",
       "      <td>1</td>\n",
       "      <td>medium</td>\n",
       "      <td>[Dining Room, Pre-War, Laundry in Building, Dishwasher, Hardwood Floors, Dogs Allowed, Cats Allowed]</td>\n",
       "      <td>0</td>\n",
       "      <td>1</td>\n",
       "      <td>1</td>\n",
       "      <td>1</td>\n",
       "      <td>0</td>\n",
       "      <td>1</td>\n",
       "      <td>...</td>\n",
       "      <td>0</td>\n",
       "      <td>0</td>\n",
       "      <td>0</td>\n",
       "      <td>1</td>\n",
       "      <td>0</td>\n",
       "      <td>0</td>\n",
       "      <td>0</td>\n",
       "      <td>0</td>\n",
       "      <td>0</td>\n",
       "      <td>0</td>\n",
       "    </tr>\n",
       "    <tr>\n",
       "      <th>6</th>\n",
       "      <td>1.0</td>\n",
       "      <td>2</td>\n",
       "      <td>low</td>\n",
       "      <td>[Doorman, Elevator, Laundry in Building, Dishwasher, Hardwood Floors, No Fee]</td>\n",
       "      <td>1</td>\n",
       "      <td>0</td>\n",
       "      <td>1</td>\n",
       "      <td>0</td>\n",
       "      <td>1</td>\n",
       "      <td>1</td>\n",
       "      <td>...</td>\n",
       "      <td>0</td>\n",
       "      <td>0</td>\n",
       "      <td>0</td>\n",
       "      <td>0</td>\n",
       "      <td>0</td>\n",
       "      <td>0</td>\n",
       "      <td>0</td>\n",
       "      <td>0</td>\n",
       "      <td>0</td>\n",
       "      <td>0</td>\n",
       "    </tr>\n",
       "    <tr>\n",
       "      <th>9</th>\n",
       "      <td>1.0</td>\n",
       "      <td>2</td>\n",
       "      <td>medium</td>\n",
       "      <td>[Doorman, Elevator, Laundry in Building, Laundry in Unit, Dishwasher, Hardwood Floors]</td>\n",
       "      <td>1</td>\n",
       "      <td>0</td>\n",
       "      <td>1</td>\n",
       "      <td>0</td>\n",
       "      <td>1</td>\n",
       "      <td>1</td>\n",
       "      <td>...</td>\n",
       "      <td>1</td>\n",
       "      <td>0</td>\n",
       "      <td>0</td>\n",
       "      <td>0</td>\n",
       "      <td>0</td>\n",
       "      <td>0</td>\n",
       "      <td>0</td>\n",
       "      <td>0</td>\n",
       "      <td>0</td>\n",
       "      <td>0</td>\n",
       "    </tr>\n",
       "    <tr>\n",
       "      <th>10</th>\n",
       "      <td>1.5</td>\n",
       "      <td>3</td>\n",
       "      <td>medium</td>\n",
       "      <td>[]</td>\n",
       "      <td>0</td>\n",
       "      <td>0</td>\n",
       "      <td>0</td>\n",
       "      <td>0</td>\n",
       "      <td>0</td>\n",
       "      <td>0</td>\n",
       "      <td>...</td>\n",
       "      <td>0</td>\n",
       "      <td>0</td>\n",
       "      <td>0</td>\n",
       "      <td>0</td>\n",
       "      <td>0</td>\n",
       "      <td>0</td>\n",
       "      <td>0</td>\n",
       "      <td>0</td>\n",
       "      <td>0</td>\n",
       "      <td>0</td>\n",
       "    </tr>\n",
       "    <tr>\n",
       "      <th>15</th>\n",
       "      <td>1.0</td>\n",
       "      <td>0</td>\n",
       "      <td>low</td>\n",
       "      <td>[Doorman, Elevator, Fitness Center, Laundry in Building]</td>\n",
       "      <td>1</td>\n",
       "      <td>0</td>\n",
       "      <td>0</td>\n",
       "      <td>0</td>\n",
       "      <td>1</td>\n",
       "      <td>0</td>\n",
       "      <td>...</td>\n",
       "      <td>0</td>\n",
       "      <td>0</td>\n",
       "      <td>0</td>\n",
       "      <td>0</td>\n",
       "      <td>0</td>\n",
       "      <td>0</td>\n",
       "      <td>0</td>\n",
       "      <td>0</td>\n",
       "      <td>0</td>\n",
       "      <td>0</td>\n",
       "    </tr>\n",
       "  </tbody>\n",
       "</table>\n",
       "<p>5 rows × 24 columns</p>\n",
       "</div>"
      ],
      "text/plain": [
       "    bathrooms  bedrooms interest_level  \\\n",
       "4         1.0         1         medium   \n",
       "6         1.0         2            low   \n",
       "9         1.0         2         medium   \n",
       "10        1.5         3         medium   \n",
       "15        1.0         0            low   \n",
       "\n",
       "                                                                                                features  \\\n",
       "4   [Dining Room, Pre-War, Laundry in Building, Dishwasher, Hardwood Floors, Dogs Allowed, Cats Allowed]   \n",
       "6                          [Doorman, Elevator, Laundry in Building, Dishwasher, Hardwood Floors, No Fee]   \n",
       "9                 [Doorman, Elevator, Laundry in Building, Laundry in Unit, Dishwasher, Hardwood Floors]   \n",
       "10                                                                                                    []   \n",
       "15                                              [Doorman, Elevator, Fitness Center, Laundry in Building]   \n",
       "\n",
       "    Elevator  Cats Allowed  Hardwood Floors  Dogs Allowed  Doorman  \\\n",
       "4          0             1                1             1        0   \n",
       "6          1             0                1             0        1   \n",
       "9          1             0                1             0        1   \n",
       "10         0             0                0             0        0   \n",
       "15         1             0                0             0        1   \n",
       "\n",
       "    Dishwasher  ...  Laundry in Unit  Roof Deck  Outdoor Space  Dining Room  \\\n",
       "4            1  ...                0          0              0            1   \n",
       "6            1  ...                0          0              0            0   \n",
       "9            1  ...                1          0              0            0   \n",
       "10           0  ...                0          0              0            0   \n",
       "15           0  ...                0          0              0            0   \n",
       "\n",
       "    High Speed Internet  Balcony  Swimming Pool  Laundry In Building  \\\n",
       "4                     0        0              0                    0   \n",
       "6                     0        0              0                    0   \n",
       "9                     0        0              0                    0   \n",
       "10                    0        0              0                    0   \n",
       "15                    0        0              0                    0   \n",
       "\n",
       "    New Construction  Terrace  \n",
       "4                  0        0  \n",
       "6                  0        0  \n",
       "9                  0        0  \n",
       "10                 0        0  \n",
       "15                 0        0  \n",
       "\n",
       "[5 rows x 24 columns]"
      ]
     },
     "execution_count": 228,
     "metadata": {},
     "output_type": "execute_result"
    }
   ],
   "source": [
    "most_common = [name for name, count in counter.most_common(20)]\n",
    "\n",
    "result_df = df[['bathrooms', 'bedrooms', 'interest_level', 'features']].copy()\n",
    "\n",
    "for feature in most_common:\n",
    "    result_df[feature] = result_df['features'].apply(lambda x: 1 if feature in x else 0)\n",
    "\n",
    "result_df.head()"
   ]
  },
  {
   "cell_type": "code",
   "execution_count": 260,
   "id": "5a3f3b0f8d6eb103",
   "metadata": {
    "ExecuteTime": {
     "end_time": "2025-03-05T11:08:31.504235Z",
     "start_time": "2025-03-05T11:08:31.485235Z"
    }
   },
   "outputs": [
    {
     "data": {
      "text/html": [
       "<div>\n",
       "<style scoped>\n",
       "    .dataframe tbody tr th:only-of-type {\n",
       "        vertical-align: middle;\n",
       "    }\n",
       "\n",
       "    .dataframe tbody tr th {\n",
       "        vertical-align: top;\n",
       "    }\n",
       "\n",
       "    .dataframe thead th {\n",
       "        text-align: right;\n",
       "    }\n",
       "</style>\n",
       "<table border=\"1\" class=\"dataframe\">\n",
       "  <thead>\n",
       "    <tr style=\"text-align: right;\">\n",
       "      <th></th>\n",
       "      <th>bathrooms</th>\n",
       "      <th>bedrooms</th>\n",
       "      <th>interest_level</th>\n",
       "      <th>Elevator</th>\n",
       "      <th>Cats Allowed</th>\n",
       "      <th>Hardwood Floors</th>\n",
       "      <th>Dogs Allowed</th>\n",
       "      <th>Doorman</th>\n",
       "      <th>Dishwasher</th>\n",
       "      <th>No Fee</th>\n",
       "      <th>...</th>\n",
       "      <th>Roof Deck</th>\n",
       "      <th>Outdoor Space</th>\n",
       "      <th>Dining Room</th>\n",
       "      <th>High Speed Internet</th>\n",
       "      <th>Balcony</th>\n",
       "      <th>Swimming Pool</th>\n",
       "      <th>Laundry In Building</th>\n",
       "      <th>New Construction</th>\n",
       "      <th>Terrace</th>\n",
       "      <th>price</th>\n",
       "    </tr>\n",
       "  </thead>\n",
       "  <tbody>\n",
       "    <tr>\n",
       "      <th>4</th>\n",
       "      <td>1.0</td>\n",
       "      <td>1</td>\n",
       "      <td>1</td>\n",
       "      <td>0</td>\n",
       "      <td>1</td>\n",
       "      <td>1</td>\n",
       "      <td>1</td>\n",
       "      <td>0</td>\n",
       "      <td>1</td>\n",
       "      <td>0</td>\n",
       "      <td>...</td>\n",
       "      <td>0</td>\n",
       "      <td>0</td>\n",
       "      <td>1</td>\n",
       "      <td>0</td>\n",
       "      <td>0</td>\n",
       "      <td>0</td>\n",
       "      <td>0</td>\n",
       "      <td>0</td>\n",
       "      <td>0</td>\n",
       "      <td>2400</td>\n",
       "    </tr>\n",
       "    <tr>\n",
       "      <th>6</th>\n",
       "      <td>1.0</td>\n",
       "      <td>2</td>\n",
       "      <td>0</td>\n",
       "      <td>1</td>\n",
       "      <td>0</td>\n",
       "      <td>1</td>\n",
       "      <td>0</td>\n",
       "      <td>1</td>\n",
       "      <td>1</td>\n",
       "      <td>1</td>\n",
       "      <td>...</td>\n",
       "      <td>0</td>\n",
       "      <td>0</td>\n",
       "      <td>0</td>\n",
       "      <td>0</td>\n",
       "      <td>0</td>\n",
       "      <td>0</td>\n",
       "      <td>0</td>\n",
       "      <td>0</td>\n",
       "      <td>0</td>\n",
       "      <td>3800</td>\n",
       "    </tr>\n",
       "    <tr>\n",
       "      <th>9</th>\n",
       "      <td>1.0</td>\n",
       "      <td>2</td>\n",
       "      <td>1</td>\n",
       "      <td>1</td>\n",
       "      <td>0</td>\n",
       "      <td>1</td>\n",
       "      <td>0</td>\n",
       "      <td>1</td>\n",
       "      <td>1</td>\n",
       "      <td>0</td>\n",
       "      <td>...</td>\n",
       "      <td>0</td>\n",
       "      <td>0</td>\n",
       "      <td>0</td>\n",
       "      <td>0</td>\n",
       "      <td>0</td>\n",
       "      <td>0</td>\n",
       "      <td>0</td>\n",
       "      <td>0</td>\n",
       "      <td>0</td>\n",
       "      <td>3495</td>\n",
       "    </tr>\n",
       "    <tr>\n",
       "      <th>10</th>\n",
       "      <td>1.5</td>\n",
       "      <td>3</td>\n",
       "      <td>1</td>\n",
       "      <td>0</td>\n",
       "      <td>0</td>\n",
       "      <td>0</td>\n",
       "      <td>0</td>\n",
       "      <td>0</td>\n",
       "      <td>0</td>\n",
       "      <td>0</td>\n",
       "      <td>...</td>\n",
       "      <td>0</td>\n",
       "      <td>0</td>\n",
       "      <td>0</td>\n",
       "      <td>0</td>\n",
       "      <td>0</td>\n",
       "      <td>0</td>\n",
       "      <td>0</td>\n",
       "      <td>0</td>\n",
       "      <td>0</td>\n",
       "      <td>3000</td>\n",
       "    </tr>\n",
       "    <tr>\n",
       "      <th>15</th>\n",
       "      <td>1.0</td>\n",
       "      <td>0</td>\n",
       "      <td>0</td>\n",
       "      <td>1</td>\n",
       "      <td>0</td>\n",
       "      <td>0</td>\n",
       "      <td>0</td>\n",
       "      <td>1</td>\n",
       "      <td>0</td>\n",
       "      <td>0</td>\n",
       "      <td>...</td>\n",
       "      <td>0</td>\n",
       "      <td>0</td>\n",
       "      <td>0</td>\n",
       "      <td>0</td>\n",
       "      <td>0</td>\n",
       "      <td>0</td>\n",
       "      <td>0</td>\n",
       "      <td>0</td>\n",
       "      <td>0</td>\n",
       "      <td>2795</td>\n",
       "    </tr>\n",
       "  </tbody>\n",
       "</table>\n",
       "<p>5 rows × 24 columns</p>\n",
       "</div>"
      ],
      "text/plain": [
       "    bathrooms  bedrooms  interest_level  Elevator  Cats Allowed  \\\n",
       "4         1.0         1               1         0             1   \n",
       "6         1.0         2               0         1             0   \n",
       "9         1.0         2               1         1             0   \n",
       "10        1.5         3               1         0             0   \n",
       "15        1.0         0               0         1             0   \n",
       "\n",
       "    Hardwood Floors  Dogs Allowed  Doorman  Dishwasher  No Fee  ...  \\\n",
       "4                 1             1        0           1       0  ...   \n",
       "6                 1             0        1           1       1  ...   \n",
       "9                 1             0        1           1       0  ...   \n",
       "10                0             0        0           0       0  ...   \n",
       "15                0             0        1           0       0  ...   \n",
       "\n",
       "    Roof Deck  Outdoor Space  Dining Room  High Speed Internet  Balcony  \\\n",
       "4           0              0            1                    0        0   \n",
       "6           0              0            0                    0        0   \n",
       "9           0              0            0                    0        0   \n",
       "10          0              0            0                    0        0   \n",
       "15          0              0            0                    0        0   \n",
       "\n",
       "    Swimming Pool  Laundry In Building  New Construction  Terrace  price  \n",
       "4               0                    0                 0        0   2400  \n",
       "6               0                    0                 0        0   3800  \n",
       "9               0                    0                 0        0   3495  \n",
       "10              0                    0                 0        0   3000  \n",
       "15              0                    0                 0        0   2795  \n",
       "\n",
       "[5 rows x 24 columns]"
      ]
     },
     "execution_count": 260,
     "metadata": {},
     "output_type": "execute_result"
    }
   ],
   "source": [
    "result_df['interest_level'] = result_df['interest_level'].replace({'low': 0, 'medium': 1, 'high': 2}).astype(int)\n",
    "if 'features' in result_df.columns:\n",
    "    result_df.drop(columns=['features'], inplace=True)\n",
    "if 'price' not in result_df.columns:\n",
    "    result_df['price'] = df['price']\n",
    "result_df.head()"
   ]
  },
  {
   "cell_type": "code",
   "execution_count": 230,
   "id": "84bfca870d8a93b6",
   "metadata": {
    "ExecuteTime": {
     "end_time": "2025-03-05T11:04:31.571961Z",
     "start_time": "2025-03-05T11:04:31.555175Z"
    }
   },
   "outputs": [],
   "source": [
    "df_copy = result_df.copy()\n",
    "\n",
    "lower_percentile = result_df['price'].quantile(0.01)\n",
    "upper_percentile = result_df['price'].quantile(0.99)\n",
    "\n",
    "result_df = result_df[(result_df['price'] > lower_percentile) & (result_df['price'] < upper_percentile)]"
   ]
  },
  {
   "cell_type": "code",
   "execution_count": 231,
   "id": "697e80cf5ee81593",
   "metadata": {
    "ExecuteTime": {
     "end_time": "2025-03-05T11:04:31.577578Z",
     "start_time": "2025-03-05T11:04:31.574977Z"
    }
   },
   "outputs": [],
   "source": [
    "# result_df.to_csv('data/result.csv')"
   ]
  },
  {
   "cell_type": "markdown",
   "id": "f27aadfe5558a915",
   "metadata": {},
   "source": [
    "### 4. Реализация моделей — Линейная регрессия"
   ]
  },
  {
   "cell_type": "code",
   "execution_count": 232,
   "id": "64e3ce8f6aab8ef3",
   "metadata": {
    "ExecuteTime": {
     "end_time": "2025-03-05T11:04:31.599923Z",
     "start_time": "2025-03-05T11:04:31.578869Z"
    }
   },
   "outputs": [],
   "source": [
    "class MyLinearRegression:\n",
    "    def __init__(self, method='sgd', learning_rate=0.001, epochs=100, penalty=None, lambda_=1.0):\n",
    "        self.method = method  # Метод обучения\n",
    "        self.learning_rate = learning_rate  # Скорость обучения\n",
    "        self.epochs = epochs  # Количество эпох (итераций обучения)\n",
    "        self.weights = None  # Веса модели\n",
    "        self.penalty = penalty\n",
    "        self.lambda_ = lambda_\n",
    "        \n",
    "    def fit(self, X, y):\n",
    "\n",
    "        X = np.c_[np.ones(X.shape[0]), X] # Добавляем bias (столбец единиц) (intercept)\n",
    "        y = y.values.reshape(-1, 1)  # Преобразуем y в вертикальный вектор\n",
    "\n",
    "        if self.method == 'analytic':\n",
    "            I = np.eye(X.shape[1])  # Единичная матрица размером с X.T @ X\n",
    "            if self.penalty == 'l2':\n",
    "                self.weights = np.linalg.inv(X.T @ X + self.lambda_ * I) @ X.T @ y\n",
    "            else:\n",
    "                self.weights = np.linalg.inv(X.T @ X) @ X.T @ y\n",
    "\n",
    "        elif self.method == 'sgd':\n",
    "            \n",
    "            m, n = X.shape\n",
    "            self.weights = np.zeros((n, 1))  # Теперь учитываем bias\n",
    "            \n",
    "            for _ in range(self.epochs):\n",
    "                for i in range(m):\n",
    "                    random_index = np.random.randint(m)  # Выбираем случайный индекс\n",
    "                    xi = X[random_index:random_index + 1]  # Один случайный пример\n",
    "                    yi = y[random_index:random_index + 1]\n",
    "                    gradient = 2 * xi.T @ (xi @ self.weights - yi)  # Градиент\n",
    "                    \n",
    "                    if self.penalty == 'l2':  # Ridge (L2-регуляризация)\n",
    "                        gradient += (2 * self.lambda_) * self.weights\n",
    "\n",
    "                    elif self.penalty == 'l1':  # Lasso (L1-регуляризация)\n",
    "                        gradient += self.lambda_ * np.sign(self.weights)\n",
    "            \n",
    "                    elif self.penalty == 'elasticnet':  # ElasticNet (L1 + L2)\n",
    "                        l1_ratio = 0.5  #  Баланс L1/L2\n",
    "                        gradient += (1 - l1_ratio) * (2 * self.lambda_ * self.weights) + l1_ratio * (self.lambda_ * np.sign(self.weights))\n",
    "                        \n",
    "                    self.weights -= self.learning_rate * gradient  # Обновляем веса\n",
    "\n",
    "        elif self.method == 'bgd':\n",
    "            m, n = X.shape\n",
    "            self.weights = np.zeros((n, 1))\n",
    "            for _ in range(self.epochs):\n",
    "                gradient = (2 / m) * X.T @ (X @ self.weights - y)  # Градиент\n",
    "                if self.penalty == 'l2':  # Ridge (L2-регуляризация)\n",
    "                    gradient += (2 * self.lambda_) * self.weights\n",
    "\n",
    "                elif self.penalty == 'l1':  # Lasso (L1-регуляризация)\n",
    "                    gradient += self.lambda_ * np.sign(self.weights)\n",
    "        \n",
    "                elif self.penalty == 'elasticnet':  # ElasticNet (L1 + L2)\n",
    "                    l1_ratio = 0.5  #  Баланс L1/L2\n",
    "                    gradient += (1 - l1_ratio) * (2 * self.lambda_ * self.weights) + l1_ratio * (self.lambda_ * np.sign(self.weights))\n",
    "        \n",
    "                self.weights -= self.learning_rate * gradient  # Обновление весов\n",
    "                \n",
    "        else:\n",
    "            raise ValueError(\"Incorrect method: use 'sgd' or 'analytic' or 'bgd'\")\n",
    "\n",
    "    def predict(self, X):\n",
    "        X = np.c_[np.ones(X.shape[0]), X]  # Добавляем bias\n",
    "        return (X @ self.weights).ravel()  # Вычисляем прогноз"
   ]
  },
  {
   "cell_type": "code",
   "execution_count": 233,
   "id": "4b9428cd17f985b6",
   "metadata": {
    "ExecuteTime": {
     "end_time": "2025-03-05T11:04:31.634473Z",
     "start_time": "2025-03-05T11:04:31.601167Z"
    }
   },
   "outputs": [],
   "source": [
    "X = result_df.drop(['price'], axis=1)\n",
    "y = result_df['price']\n",
    "\n",
    "X_train, X_test, y_train, y_test = train_test_split(X, y, test_size=0.2, random_state=21)"
   ]
  },
  {
   "cell_type": "code",
   "execution_count": 234,
   "id": "14bc3e3ff021d8a3",
   "metadata": {
    "ExecuteTime": {
     "end_time": "2025-03-05T11:04:31.640789Z",
     "start_time": "2025-03-05T11:04:31.635891Z"
    }
   },
   "outputs": [],
   "source": [
    "def my_r2_score(y_true, y_pred):\n",
    "    SS_res = np.sum((y_true - y_pred) ** 2)\n",
    "    SS_tot = np.sum((y_true - np.mean(y_true)) ** 2)\n",
    "    return 1 - SS_res / SS_tot\n",
    "\n",
    "def my_mean_absolute_error(y_true, y_pred):\n",
    "    return np.sum(np.abs(y_true - y_pred)) / len(y_true)\n",
    "\n",
    "def my_root_mean_squared_error(y_true, y_pred):\n",
    "    return np.sqrt(np.sum((y_true - y_pred) ** 2) / len(y_true))"
   ]
  },
  {
   "cell_type": "code",
   "execution_count": 235,
   "id": "8d85279bc3aa2eaf",
   "metadata": {
    "ExecuteTime": {
     "end_time": "2025-03-05T11:05:17.993014Z",
     "start_time": "2025-03-05T11:04:31.641999Z"
    }
   },
   "outputs": [
    {
     "name": "stdout",
     "output_type": "stream",
     "text": [
      "SGD Model:\n",
      "R2: 0.5631358429582561\n",
      "MAE: 704.2080580063842\n",
      "RMSE: 1061.519432152258\n"
     ]
    }
   ],
   "source": [
    "model = MyLinearRegression(method='sgd', learning_rate=0.01, epochs=100)\n",
    "model.fit(X_train, y_train)\n",
    "y_pred = model.predict(X_test)\n",
    "print('SGD Model:')\n",
    "print(f'R2: {my_r2_score(y_test, y_pred)}')\n",
    "print(f'MAE: {my_mean_absolute_error(y_test, y_pred)}')\n",
    "print(f'RMSE: {my_root_mean_squared_error(y_test, y_pred)}')"
   ]
  },
  {
   "cell_type": "code",
   "execution_count": 236,
   "id": "df3fb12fe833b606",
   "metadata": {
    "ExecuteTime": {
     "end_time": "2025-03-05T11:05:30.171210Z",
     "start_time": "2025-03-05T11:05:17.994077Z"
    }
   },
   "outputs": [
    {
     "name": "stdout",
     "output_type": "stream",
     "text": [
      "BGD Model:\n",
      "R2: 0.6152648632253803\n",
      "MAE: 689.5290390253145\n",
      "RMSE: 996.1750659686721\n"
     ]
    }
   ],
   "source": [
    "model = MyLinearRegression(method='bgd', learning_rate=0.001, epochs=10000)\n",
    "model.fit(X_train, y_train)\n",
    "\n",
    "y_pred = model.predict(X_test)\n",
    "print('BGD Model:')\n",
    "print(f'R2: {my_r2_score(y_test, y_pred)}')\n",
    "print(f'MAE: {my_mean_absolute_error(y_test, y_pred)}')\n",
    "print(f'RMSE: {my_root_mean_squared_error(y_test, y_pred)}')"
   ]
  },
  {
   "cell_type": "code",
   "execution_count": 237,
   "id": "d8a263755e3231c7",
   "metadata": {
    "ExecuteTime": {
     "end_time": "2025-03-05T11:05:30.183248Z",
     "start_time": "2025-03-05T11:05:30.172465Z"
    }
   },
   "outputs": [
    {
     "name": "stdout",
     "output_type": "stream",
     "text": [
      "Analytic Model:\n",
      "R2: 0.616495015905854\n",
      "MAE: 689.0101553085188\n",
      "RMSE: 994.5812050999856\n"
     ]
    }
   ],
   "source": [
    "model = MyLinearRegression(method='analytic', learning_rate=0.001, epochs=100)\n",
    "model.fit(X_train, y_train)\n",
    "\n",
    "y_pred = model.predict(X_test)\n",
    "print('Analytic Model:')\n",
    "print(f'R2: {my_r2_score(y_test, y_pred)}')\n",
    "print(f'MAE: {my_mean_absolute_error(y_test, y_pred)}')\n",
    "print(f'RMSE: {my_root_mean_squared_error(y_test, y_pred)}')"
   ]
  },
  {
   "cell_type": "code",
   "execution_count": 238,
   "id": "f20828a08e2e6f4b",
   "metadata": {
    "ExecuteTime": {
     "end_time": "2025-03-05T11:05:30.204341Z",
     "start_time": "2025-03-05T11:05:30.184437Z"
    }
   },
   "outputs": [
    {
     "name": "stdout",
     "output_type": "stream",
     "text": [
      "Linear Model (sklearn):\n",
      "R2: 0.6164950159058543\n",
      "MAE: 689.0101553085177\n",
      "RMSE: 994.5812050999851\n"
     ]
    }
   ],
   "source": [
    "sk = LinearRegression()\n",
    "sk.fit(X_train, y_train)\n",
    "y_pred = sk.predict(X_test)\n",
    "\n",
    "print('Linear Model (sklearn):')\n",
    "print(f'R2: {r2_score(y_test, y_pred)}')\n",
    "print(f'MAE: {mean_absolute_error(y_test, y_pred)}')\n",
    "print(f'RMSE: {np.sqrt(mean_squared_error(y_test, y_pred))}')"
   ]
  },
  {
   "cell_type": "code",
   "execution_count": 239,
   "id": "d3af35166703d2de",
   "metadata": {
    "ExecuteTime": {
     "end_time": "2025-03-05T11:05:30.209431Z",
     "start_time": "2025-03-05T11:05:30.205418Z"
    }
   },
   "outputs": [],
   "source": [
    "result_R2 = pd.DataFrame(columns=['model', 'train', 'test'])\n",
    "result_MAE = pd.DataFrame(columns=['model', 'train', 'test'])\n",
    "result_RMSE = pd.DataFrame(columns=['model', 'train', 'test'])"
   ]
  },
  {
   "cell_type": "code",
   "execution_count": 240,
   "id": "d2773ed3ec799a79",
   "metadata": {
    "ExecuteTime": {
     "end_time": "2025-03-05T11:05:30.218354Z",
     "start_time": "2025-03-05T11:05:30.210382Z"
    }
   },
   "outputs": [],
   "source": [
    "def write_metrics(model, model_name):\n",
    "    model.fit(X_train, y_train)\n",
    "    y_train_pred = model.predict(X_train)\n",
    "    y_test_pred = model.predict(X_test)\n",
    "    \n",
    "    r2_train = r2_score(y_train, y_train_pred)\n",
    "    r2_test = r2_score(y_test, y_test_pred)\n",
    "    \n",
    "    mae_train = mean_absolute_error(y_train, y_train_pred)\n",
    "    mae_test = mean_absolute_error(y_test, y_test_pred)\n",
    "    \n",
    "    rmse_train = np.sqrt(mean_squared_error(y_train, y_train_pred))\n",
    "    rmse_test = np.sqrt(mean_squared_error(y_test, y_test_pred))\n",
    "    \n",
    "    if model_name not in result_R2['model'].values:\n",
    "        result_R2.loc[len(result_R2)] = [model_name, r2_train, r2_test]\n",
    "        result_MAE.loc[len(result_MAE)] = [model_name, mae_train, mae_test]\n",
    "        result_RMSE.loc[len(result_RMSE)] = [model_name, rmse_train, rmse_test]\n",
    "    \n",
    "def print_metrics():\n",
    "    print('Results R2:', result_R2, sep='\\n', end='\\n\\n')\n",
    "    print('Results MAE:', result_MAE, sep='\\n', end='\\n\\n')\n",
    "    print('Results RMSE:', result_RMSE, sep='\\n')"
   ]
  },
  {
   "cell_type": "code",
   "execution_count": 241,
   "id": "47a687698aa44426",
   "metadata": {
    "ExecuteTime": {
     "end_time": "2025-03-05T11:05:30.251654Z",
     "start_time": "2025-03-05T11:05:30.219520Z"
    }
   },
   "outputs": [],
   "source": [
    "linreg = LinearRegression()\n",
    "write_metrics(linreg, 'linereg default')"
   ]
  },
  {
   "cell_type": "code",
   "execution_count": 242,
   "id": "37b6a4bc17e21ae8",
   "metadata": {
    "ExecuteTime": {
     "end_time": "2025-03-05T11:05:30.259004Z",
     "start_time": "2025-03-05T11:05:30.252711Z"
    }
   },
   "outputs": [
    {
     "name": "stdout",
     "output_type": "stream",
     "text": [
      "Results R2:\n",
      "             model     train      test\n",
      "0  linereg default  0.602062  0.616495\n",
      "\n",
      "Results MAE:\n",
      "             model       train        test\n",
      "0  linereg default  687.030471  689.010155\n",
      "\n",
      "Results RMSE:\n",
      "             model       train        test\n",
      "0  linereg default  996.991413  994.581205\n"
     ]
    }
   ],
   "source": [
    "print_metrics()"
   ]
  },
  {
   "cell_type": "markdown",
   "id": "608a8dd90f8df24d",
   "metadata": {},
   "source": [
    "### 5. Реализация регуляризованных моделей — Ridge, Lasso, ElasticNet"
   ]
  },
  {
   "cell_type": "code",
   "execution_count": 243,
   "id": "c8361e3eabf6552a",
   "metadata": {
    "ExecuteTime": {
     "end_time": "2025-03-05T11:08:16.983290Z",
     "start_time": "2025-03-05T11:05:30.259951Z"
    }
   },
   "outputs": [
    {
     "name": "stdout",
     "output_type": "stream",
     "text": [
      "SGD Model (penalty l1):\n",
      "R2: 0.6065372014485637\n",
      "MAE: 713.8898371415563\n",
      "RMSE: 1007.4107480737356\n",
      "SGD Model (penalty l2):\n",
      "R2: 0.3784901359351861\n",
      "MAE: 867.3052820022327\n",
      "RMSE: 1266.1313277632232\n",
      "SGD Model (penalty elasticnet):\n",
      "R2: 0.02387607454552776\n",
      "MAE: 1152.5067731192773\n",
      "RMSE: 1586.745300086333\n"
     ]
    }
   ],
   "source": [
    "penalty = ['l1', 'l2', 'elasticnet']\n",
    "for p in penalty:\n",
    "    model = MyLinearRegression(method='sgd', learning_rate=0.01, epochs=100, penalty=p)\n",
    "    model.fit(X_train, y_train)\n",
    "    y_pred = model.predict(X_test)\n",
    "    print(f'SGD Model (penalty {p}):')\n",
    "    print(f'R2: {my_r2_score(y_test, y_pred)}')\n",
    "    print(f'MAE: {my_mean_absolute_error(y_test, y_pred)}')\n",
    "    print(f'RMSE: {my_root_mean_squared_error(y_test, y_pred)}')"
   ]
  },
  {
   "cell_type": "code",
   "execution_count": 244,
   "id": "b547c338f26debb",
   "metadata": {
    "ExecuteTime": {
     "end_time": "2025-03-05T11:08:17.066760Z",
     "start_time": "2025-03-05T11:08:16.984229Z"
    }
   },
   "outputs": [
    {
     "name": "stdout",
     "output_type": "stream",
     "text": [
      "Results R2:\n",
      "                model     train      test\n",
      "0     linereg default  0.602062  0.616495\n",
      "1       Ridge default  0.602062  0.616493\n",
      "2       Lasso default  0.601920  0.616227\n",
      "3  ElasticNet default  0.470794  0.475841\n",
      "\n",
      "Results MAE:\n",
      "                model       train        test\n",
      "0     linereg default  687.030471  689.010155\n",
      "1       Ridge default  687.026383  689.007983\n",
      "2       Lasso default  686.455762  688.619712\n",
      "3  ElasticNet default  777.012834  785.570792\n",
      "\n",
      "Results RMSE:\n",
      "                model        train         test\n",
      "0     linereg default   996.991413   994.581205\n",
      "1       Ridge default   996.991419   994.584120\n",
      "2       Lasso default   997.169344   994.928759\n",
      "3  ElasticNet default  1149.730017  1162.750102\n"
     ]
    }
   ],
   "source": [
    "models = {'Ridge default': Ridge(), 'Lasso default': Lasso(), 'ElasticNet default': ElasticNet()}\n",
    "for model_name, model in models.items():\n",
    "    write_metrics(model, model_name)\n",
    "    \n",
    "print_metrics()"
   ]
  },
  {
   "cell_type": "markdown",
   "id": "812009b9a9a47caa",
   "metadata": {},
   "source": [
    "### 6. Нормализация признаков"
   ]
  },
  {
   "cell_type": "markdown",
   "id": "e25107ba078e8de9",
   "metadata": {},
   "source": [
    "Нормализация: Преобразует данные так, чтобы они имели фиксированный диапазон, например, от 0 до 1. Это полезно, когда важно сохранить пропорции между признаками\n",
    "\n",
    "Стандартизация: Преобразует данные так, чтобы они имели нулевое среднее значение и стандартное отклонение равное 1\n",
    "\n",
    "Нормализация обязательна в случаях, когда алгоритм использует метрики расстояния, градиентный спуск или регуляризацию, чувствительную к масштабу признаков (например, в KNN, SVM, линейных моделях с регуляризацией)\n",
    "\n",
    "Нормализация не обязательна в случае с деревьями решений и другими алгоритмами, которые не зависят от масштаба признаков (например, случайный лес, градиентный бустинг)\n",
    "\n",
    "![](data/6a.png)"
   ]
  },
  {
   "cell_type": "code",
   "execution_count": 245,
   "id": "b1c0f66e9a2e375c",
   "metadata": {
    "ExecuteTime": {
     "end_time": "2025-03-05T11:08:17.071448Z",
     "start_time": "2025-03-05T11:08:17.068060Z"
    }
   },
   "outputs": [],
   "source": [
    "def my_min_max_scaler(X):\n",
    "    return (X - X.min()) / (X.max() - X.min())\n",
    "\n",
    "def my_standard_scaler(X):\n",
    "    return (X - X.mean()) / X.std()"
   ]
  },
  {
   "cell_type": "code",
   "execution_count": 246,
   "id": "b738e39065fb3050",
   "metadata": {
    "ExecuteTime": {
     "end_time": "2025-03-05T11:08:17.117116Z",
     "start_time": "2025-03-05T11:08:17.072628Z"
    }
   },
   "outputs": [
    {
     "name": "stdout",
     "output_type": "stream",
     "text": [
      "   bathrooms  bedrooms  interest_level  Elevator  Cats Allowed\n",
      "4        1.0         1               1         0             1\n",
      "6        1.0         2               0         1             0\n",
      "9        1.0         2               1         1             0\n",
      "   bathrooms  bedrooms  interest_level  Elevator  Cats Allowed\n",
      "4        0.1     0.125             0.5       0.0           1.0\n",
      "6        0.1     0.250             0.0       1.0           0.0\n",
      "9        0.1     0.250             0.5       1.0           0.0\n",
      "   bathrooms  bedrooms  interest_level  Elevator  Cats Allowed\n",
      "0        0.1     0.125             0.5       0.0           1.0\n",
      "1        0.1     0.250             0.0       1.0           0.0\n",
      "2        0.1     0.250             0.5       1.0           0.0\n"
     ]
    }
   ],
   "source": [
    "X_copy = X.copy()\n",
    "X_normal = my_min_max_scaler(X_copy)\n",
    "X_normal_sk = MinMaxScaler().fit_transform(X_copy)\n",
    "print(X_copy.iloc[:3, :5])\n",
    "print(X_normal.iloc[:3, :5])\n",
    "print(pd.DataFrame(X_normal_sk, columns=X.columns).iloc[:3, :5])"
   ]
  },
  {
   "cell_type": "code",
   "execution_count": 247,
   "id": "476368a4e315f00e",
   "metadata": {
    "ExecuteTime": {
     "end_time": "2025-03-05T11:08:17.156541Z",
     "start_time": "2025-03-05T11:08:17.118220Z"
    }
   },
   "outputs": [
    {
     "name": "stdout",
     "output_type": "stream",
     "text": [
      "   bathrooms  bedrooms  interest_level  Elevator  Cats Allowed\n",
      "4        1.0         1               1         0             1\n",
      "6        1.0         2               0         1             0\n",
      "9        1.0         2               1         1             0\n",
      "   bathrooms  bedrooms  interest_level  Elevator  Cats Allowed\n",
      "4  -0.427285 -0.485070        1.007835 -1.051083       1.04383\n",
      "6  -0.427285  0.422955       -0.610022  0.951380      -0.95799\n",
      "9  -0.427285  0.422955        1.007835  0.951380      -0.95799\n",
      "   bathrooms  bedrooms  interest_level  Elevator  Cats Allowed\n",
      "0  -0.427289 -0.485075        1.007846 -1.051094      1.043841\n",
      "1  -0.427289  0.422959       -0.610029  0.951390     -0.958000\n",
      "2  -0.427289  0.422959        1.007846  0.951390     -0.958000\n"
     ]
    }
   ],
   "source": [
    "X_copy = X.copy()\n",
    "X_standard = my_standard_scaler(X_copy)\n",
    "X_standard_sk = StandardScaler().fit_transform(X_copy)\n",
    "print(X_copy.iloc[:3, :5])\n",
    "print(X_standard.iloc[:3, :5])\n",
    "print(pd.DataFrame(X_standard_sk, columns=X.columns).iloc[:3, :5])"
   ]
  },
  {
   "cell_type": "markdown",
   "id": "7148c6f6638ce490",
   "metadata": {},
   "source": [
    "### 7. Подгонка моделей с нормализацией"
   ]
  },
  {
   "cell_type": "code",
   "execution_count": 248,
   "id": "e45c78a09a4dba44",
   "metadata": {
    "ExecuteTime": {
     "end_time": "2025-03-05T11:08:17.257449Z",
     "start_time": "2025-03-05T11:08:17.157545Z"
    }
   },
   "outputs": [
    {
     "name": "stdout",
     "output_type": "stream",
     "text": [
      "Results R2:\n",
      "                     model     train      test\n",
      "0          linereg default  0.602062  0.616495\n",
      "1            Ridge default  0.602062  0.616493\n",
      "2            Lasso default  0.601920  0.616227\n",
      "3       ElasticNet default  0.470794  0.475841\n",
      "4      Linear MinMaxScaler  0.602062  0.616495\n",
      "5       Ridge MinMaxScaler  0.602024  0.616333\n",
      "6       Lasso MinMaxScaler  0.601729  0.615800\n",
      "7  ElasticNet MinMaxScaler  0.138556  0.140066\n",
      "\n",
      "Results MAE:\n",
      "                     model        train         test\n",
      "0          linereg default   687.030471   689.010155\n",
      "1            Ridge default   687.026383   689.007983\n",
      "2            Lasso default   686.455762   688.619712\n",
      "3       ElasticNet default   777.012834   785.570792\n",
      "4      Linear MinMaxScaler   687.030471   689.010155\n",
      "5       Ridge MinMaxScaler   687.156337   689.224459\n",
      "6       Lasso MinMaxScaler   686.642636   689.032914\n",
      "7  ElasticNet MinMaxScaler  1042.968244  1056.130500\n",
      "\n",
      "Results RMSE:\n",
      "                     model        train         test\n",
      "0          linereg default   996.991413   994.581205\n",
      "1            Ridge default   996.991419   994.584120\n",
      "2            Lasso default   997.169344   994.928759\n",
      "3       ElasticNet default  1149.730017  1162.750102\n",
      "4      Linear MinMaxScaler   996.991413   994.581205\n",
      "5       Ridge MinMaxScaler   997.038846   994.791755\n",
      "6       Lasso MinMaxScaler   997.408011   995.481718\n",
      "7  ElasticNet MinMaxScaler  1466.888679  1489.317710\n"
     ]
    }
   ],
   "source": [
    "X_train, X_test, y_train, y_test = train_test_split(X_normal_sk, y, test_size=0.2, random_state=21)\n",
    "models = {'Linear MinMaxScaler': LinearRegression(), 'Ridge MinMaxScaler': Ridge(), 'Lasso MinMaxScaler': Lasso(), 'ElasticNet MinMaxScaler': ElasticNet()}\n",
    "for model_name, model in models.items():\n",
    "    write_metrics(model, model_name)\n",
    "    \n",
    "print_metrics()"
   ]
  },
  {
   "cell_type": "code",
   "execution_count": 249,
   "id": "94ea55fc189c25c6",
   "metadata": {
    "ExecuteTime": {
     "end_time": "2025-03-05T11:08:17.363039Z",
     "start_time": "2025-03-05T11:08:17.260555Z"
    }
   },
   "outputs": [
    {
     "name": "stdout",
     "output_type": "stream",
     "text": [
      "Results R2:\n",
      "                        model     train      test\n",
      "0             linereg default  0.602062  0.616495\n",
      "1               Ridge default  0.602062  0.616493\n",
      "2               Lasso default  0.601920  0.616227\n",
      "3          ElasticNet default  0.470794  0.475841\n",
      "4         Linear MinMaxScaler  0.602062  0.616495\n",
      "5          Ridge MinMaxScaler  0.602024  0.616333\n",
      "6          Lasso MinMaxScaler  0.601729  0.615800\n",
      "7     ElasticNet MinMaxScaler  0.138556  0.140066\n",
      "8       Linear StandardScaler  0.602062  0.616495\n",
      "9        Ridge StandardScaler  0.602062  0.616495\n",
      "10       Lasso StandardScaler  0.602038  0.616399\n",
      "11  ElasticNet StandardScaler  0.564929  0.576141\n",
      "\n",
      "Results MAE:\n",
      "                        model        train         test\n",
      "0             linereg default   687.030471   689.010155\n",
      "1               Ridge default   687.026383   689.007983\n",
      "2               Lasso default   686.455762   688.619712\n",
      "3          ElasticNet default   777.012834   785.570792\n",
      "4         Linear MinMaxScaler   687.030471   689.010155\n",
      "5          Ridge MinMaxScaler   687.156337   689.224459\n",
      "6          Lasso MinMaxScaler   686.642636   689.032914\n",
      "7     ElasticNet MinMaxScaler  1042.968244  1056.130500\n",
      "8       Linear StandardScaler   687.030471   689.010155\n",
      "9        Ridge StandardScaler   687.029271   689.009310\n",
      "10       Lasso StandardScaler   686.739547   688.838515\n",
      "11  ElasticNet StandardScaler   712.635677   717.578553\n",
      "\n",
      "Results RMSE:\n",
      "                        model        train         test\n",
      "0             linereg default   996.991413   994.581205\n",
      "1               Ridge default   996.991419   994.584120\n",
      "2               Lasso default   997.169344   994.928759\n",
      "3          ElasticNet default  1149.730017  1162.750102\n",
      "4         Linear MinMaxScaler   996.991413   994.581205\n",
      "5          Ridge MinMaxScaler   997.038846   994.791755\n",
      "6          Lasso MinMaxScaler   997.408011   995.481718\n",
      "7     ElasticNet MinMaxScaler  1466.888679  1489.317710\n",
      "8       Linear StandardScaler   996.991413   994.581205\n",
      "9        Ridge StandardScaler   996.991413   994.581591\n",
      "10       Lasso StandardScaler   997.021982   994.705487\n",
      "11  ElasticNet StandardScaler  1042.470034  1045.599981\n"
     ]
    }
   ],
   "source": [
    "X_train, X_test, y_train, y_test = train_test_split(X_standard_sk, y, test_size=0.2, random_state=21)\n",
    "models = {'Linear StandardScaler': LinearRegression(), 'Ridge StandardScaler': Ridge(), 'Lasso StandardScaler': Lasso(), 'ElasticNet StandardScaler': ElasticNet()}\n",
    "for model_name, model in models.items():\n",
    "    write_metrics(model, model_name)\n",
    "    \n",
    "print_metrics()"
   ]
  },
  {
   "cell_type": "markdown",
   "id": "74784bd7b4683244",
   "metadata": {},
   "source": [
    "### 8. Модели переобучения"
   ]
  },
  {
   "cell_type": "code",
   "execution_count": 250,
   "id": "8178ef3a0e912dba",
   "metadata": {
    "ExecuteTime": {
     "end_time": "2025-03-05T11:08:31.197849Z",
     "start_time": "2025-03-05T11:08:17.364249Z"
    }
   },
   "outputs": [
    {
     "name": "stdout",
     "output_type": "stream",
     "text": [
      "Results R2:\n",
      "                        model     train          test\n",
      "0             linereg default  0.602062      0.616495\n",
      "1               Ridge default  0.602062      0.616493\n",
      "2               Lasso default  0.601920      0.616227\n",
      "3          ElasticNet default  0.470794      0.475841\n",
      "4         Linear MinMaxScaler  0.602062      0.616495\n",
      "5          Ridge MinMaxScaler  0.602024      0.616333\n",
      "6          Lasso MinMaxScaler  0.601729      0.615800\n",
      "7     ElasticNet MinMaxScaler  0.138556      0.140066\n",
      "8       Linear StandardScaler  0.602062      0.616495\n",
      "9        Ridge StandardScaler  0.602062      0.616495\n",
      "10       Lasso StandardScaler  0.602038      0.616399\n",
      "11  ElasticNet StandardScaler  0.564929      0.576141\n",
      "12          Linear Polynomial  0.576636  -6129.088490\n",
      "13           Ridge Polynomial  0.578992 -13177.867996\n",
      "14           Lasso Polynomial  0.574542      0.574232\n",
      "15      ElasticNet Polynomial  0.556844      0.543706\n",
      "\n",
      "Results MAE:\n",
      "                        model        train         test\n",
      "0             linereg default   687.030471   689.010155\n",
      "1               Ridge default   687.026383   689.007983\n",
      "2               Lasso default   686.455762   688.619712\n",
      "3          ElasticNet default   777.012834   785.570792\n",
      "4         Linear MinMaxScaler   687.030471   689.010155\n",
      "5          Ridge MinMaxScaler   687.156337   689.224459\n",
      "6          Lasso MinMaxScaler   686.642636   689.032914\n",
      "7     ElasticNet MinMaxScaler  1042.968244  1056.130500\n",
      "8       Linear StandardScaler   687.030471   689.010155\n",
      "9        Ridge StandardScaler   687.029271   689.009310\n",
      "10       Lasso StandardScaler   686.739547   688.838515\n",
      "11  ElasticNet StandardScaler   712.635677   717.578553\n",
      "12          Linear Polynomial   720.089363  2010.053539\n",
      "13           Ridge Polynomial   718.821785  2612.443351\n",
      "14           Lasso Polynomial   722.187508   730.874546\n",
      "15      ElasticNet Polynomial   734.039512   741.336699\n",
      "\n",
      "Results RMSE:\n",
      "                        model        train           test\n",
      "0             linereg default   996.991413     994.581205\n",
      "1               Ridge default   996.991419     994.584120\n",
      "2               Lasso default   997.169344     994.928759\n",
      "3          ElasticNet default  1149.730017    1162.750102\n",
      "4         Linear MinMaxScaler   996.991413     994.581205\n",
      "5          Ridge MinMaxScaler   997.038846     994.791755\n",
      "6          Lasso MinMaxScaler   997.408011     995.481718\n",
      "7     ElasticNet MinMaxScaler  1466.888679    1489.317710\n",
      "8       Linear StandardScaler   996.991413     994.581205\n",
      "9        Ridge StandardScaler   996.991413     994.581591\n",
      "10       Lasso StandardScaler   997.021982     994.705487\n",
      "11  ElasticNet StandardScaler  1042.470034    1045.599981\n",
      "12          Linear Polynomial  1028.349526  125744.243840\n",
      "13           Ridge Polynomial  1025.483763  184371.502850\n",
      "14           Lasso Polynomial  1030.889582    1047.951951\n",
      "15      ElasticNet Polynomial  1052.112376    1084.868257\n"
     ]
    }
   ],
   "source": [
    "warnings.filterwarnings(\"ignore\", category=UserWarning)\n",
    "\n",
    "X_poly = result_df[['bathrooms', 'bedrooms', 'interest_level']]\n",
    "y_poly = result_df['price']\n",
    "\n",
    "X_poly = StandardScaler().fit_transform(X_poly)\n",
    "X_poly = PolynomialFeatures(degree=10).fit_transform(X_poly)\n",
    "X_train, X_test, y_train, y_test = train_test_split(X_poly, y, test_size=0.2, random_state=21)\n",
    "\n",
    "models = {'Linear Polynomial': LinearRegression(), 'Ridge Polynomial': Ridge(), 'Lasso Polynomial': Lasso(), 'ElasticNet Polynomial': ElasticNet()}\n",
    "for model_name, model in models.items():\n",
    "    write_metrics(model, model_name)\n",
    "    \n",
    "print_metrics()"
   ]
  },
  {
   "cell_type": "code",
   "execution_count": 266,
   "id": "22fb10ada4556087",
   "metadata": {
    "ExecuteTime": {
     "end_time": "2025-03-05T11:16:24.888984Z",
     "start_time": "2025-03-05T11:16:24.886422Z"
    }
   },
   "outputs": [],
   "source": [
    "result_R2['train'] = result_R2['train'].round(6)"
   ]
  },
  {
   "cell_type": "markdown",
   "id": "b0b9edda6013c7f7",
   "metadata": {},
   "source": [
    "### 9. Нативные модели"
   ]
  },
  {
   "cell_type": "code",
   "execution_count": 267,
   "id": "eff1853728a42f49",
   "metadata": {
    "ExecuteTime": {
     "end_time": "2025-03-05T11:16:26.506230Z",
     "start_time": "2025-03-05T11:16:26.481082Z"
    }
   },
   "outputs": [
    {
     "name": "stdout",
     "output_type": "stream",
     "text": [
      "Results R2:\n",
      "                        model     train          test        stable\n",
      "0             linereg default  0.602062      0.616495      0.014433\n",
      "1               Ridge default  0.602062      0.616493      0.014431\n",
      "2               Lasso default  0.601920      0.616227      0.014307\n",
      "3          ElasticNet default  0.470794      0.475841      0.005047\n",
      "4         Linear MinMaxScaler  0.602062      0.616495      0.014433\n",
      "5          Ridge MinMaxScaler  0.602024      0.616333      0.014309\n",
      "6          Lasso MinMaxScaler  0.601729      0.615800      0.014071\n",
      "7     ElasticNet MinMaxScaler  0.138556      0.140066      0.001510\n",
      "8       Linear StandardScaler  0.602062      0.616495      0.014433\n",
      "9        Ridge StandardScaler  0.602062      0.616495      0.014433\n",
      "10       Lasso StandardScaler  0.602038      0.616399      0.014361\n",
      "11  ElasticNet StandardScaler  0.564929      0.576141      0.011212\n",
      "12          Linear Polynomial  0.576636  -6129.088490   6129.665126\n",
      "13           Ridge Polynomial  0.578992 -13177.867996  13178.446988\n",
      "14           Lasso Polynomial  0.574542      0.574232      0.000310\n",
      "15      ElasticNet Polynomial  0.556844      0.543706      0.013138\n",
      "16                Native mean -0.000000     -0.000002      0.000002\n",
      "17              Native Median -0.059595     -0.056734      0.002861\n",
      "18                linereg log  0.588948      0.609688      0.020740\n",
      "\n",
      "Results MAE:\n",
      "                        model        train         test       stable\n",
      "0             linereg default   687.030471   689.010155     1.979684\n",
      "1               Ridge default   687.026383   689.007983     1.981600\n",
      "2               Lasso default   686.455762   688.619712     2.163950\n",
      "3          ElasticNet default   777.012834   785.570792     8.557958\n",
      "4         Linear MinMaxScaler   687.030471   689.010155     1.979684\n",
      "5          Ridge MinMaxScaler   687.156337   689.224459     2.068121\n",
      "6          Lasso MinMaxScaler   686.642636   689.032914     2.390278\n",
      "7     ElasticNet MinMaxScaler  1042.968244  1056.130500    13.162256\n",
      "8       Linear StandardScaler   687.030471   689.010155     1.979684\n",
      "9        Ridge StandardScaler   687.029271   689.009310     1.980039\n",
      "10       Lasso StandardScaler   686.739547   688.838515     2.098968\n",
      "11  ElasticNet StandardScaler   712.635677   717.578553     4.942876\n",
      "12          Linear Polynomial   720.089363  2010.053539  1289.964176\n",
      "13           Ridge Polynomial   718.821785  2612.443351  1893.621566\n",
      "14           Lasso Polynomial   722.187508   730.874546     8.687038\n",
      "15      ElasticNet Polynomial   734.039512   741.336699     7.297188\n",
      "16                Native mean  1131.595620  1145.200434    13.604815\n",
      "17              Native Median  1079.734162  1092.167132    12.432970\n",
      "18                linereg log   668.010594   672.079182     4.068588\n",
      "\n",
      "Results RMSE:\n",
      "                        model        train           test         stable\n",
      "0             linereg default   996.991413     994.581205       2.410208\n",
      "1               Ridge default   996.991419     994.584120       2.407299\n",
      "2               Lasso default   997.169344     994.928759       2.240585\n",
      "3          ElasticNet default  1149.730017    1162.750102      13.020084\n",
      "4         Linear MinMaxScaler   996.991413     994.581205       2.410208\n",
      "5          Ridge MinMaxScaler   997.038846     994.791755       2.247091\n",
      "6          Lasso MinMaxScaler   997.408011     995.481718       1.926293\n",
      "7     ElasticNet MinMaxScaler  1466.888679    1489.317710      22.429031\n",
      "8       Linear StandardScaler   996.991413     994.581205       2.410208\n",
      "9        Ridge StandardScaler   996.991413     994.581591       2.409822\n",
      "10       Lasso StandardScaler   997.021982     994.705487       2.316495\n",
      "11  ElasticNet StandardScaler  1042.470034    1045.599981       3.129947\n",
      "12          Linear Polynomial  1028.349526  125744.243840  124715.894314\n",
      "13           Ridge Polynomial  1025.483763  184371.502850  183346.019087\n",
      "14           Lasso Polynomial  1030.889582    1047.951951      17.062369\n",
      "15      ElasticNet Polynomial  1052.112376    1084.868257      32.755881\n",
      "16                Native mean  1580.460891    1606.035907      25.575016\n",
      "17              Native Median  1626.873056    1650.964260      24.091204\n",
      "18                linereg log  1013.286177    1003.368868       9.917309\n"
     ]
    }
   ],
   "source": [
    "mean_price = np.mean(y)\n",
    "median_price = np.median(y)\n",
    "\n",
    "native = {'Native mean': mean_price, 'Native Median': median_price}\n",
    "\n",
    "for model_name, native in native.items():\n",
    "    y_train_pred = np.full_like(y_train, native)\n",
    "    y_test_pred = np.full_like(y_test, native)\n",
    "    \n",
    "    r2_train = r2_score(y_train, y_train_pred)\n",
    "    r2_test = r2_score(y_test, y_test_pred)\n",
    "    \n",
    "    mae_train = mean_absolute_error(y_train, y_train_pred)\n",
    "    mae_test = mean_absolute_error(y_test, y_test_pred)\n",
    "    \n",
    "    rmse_train = np.sqrt(mean_squared_error(y_train, y_train_pred))\n",
    "    rmse_test = np.sqrt(mean_squared_error(y_test, y_test_pred))\n",
    "    \n",
    "    if model_name not in result_R2['model'].values:\n",
    "        result_R2.loc[len(result_R2)] = [model_name, r2_train, r2_test]\n",
    "        result_MAE.loc[len(result_MAE)] = [model_name, mae_train, mae_test]\n",
    "        result_RMSE.loc[len(result_RMSE)] = [model_name, rmse_train, rmse_test]\n",
    "        \n",
    "print_metrics()"
   ]
  },
  {
   "cell_type": "markdown",
   "id": "653df01860e6ef3",
   "metadata": {},
   "source": [
    "### 10. Сравнить результаты"
   ]
  },
  {
   "cell_type": "code",
   "execution_count": 268,
   "id": "3dc6119ac119a4e8",
   "metadata": {
    "ExecuteTime": {
     "end_time": "2025-03-05T11:16:28.453675Z",
     "start_time": "2025-03-05T11:16:28.445646Z"
    }
   },
   "outputs": [
    {
     "name": "stdout",
     "output_type": "stream",
     "text": [
      "Results for R2:\n",
      "Best models:\n",
      "                        model     train          test        stable\n",
      "0             linereg default  0.602062      0.616495      0.014433\n",
      "8       Linear StandardScaler  0.602062      0.616495      0.014433\n",
      "4         Linear MinMaxScaler  0.602062      0.616495      0.014433\n",
      "9        Ridge StandardScaler  0.602062      0.616495      0.014433\n",
      "1               Ridge default  0.602062      0.616493      0.014431\n",
      "10       Lasso StandardScaler  0.602038      0.616399      0.014361\n",
      "5          Ridge MinMaxScaler  0.602024      0.616333      0.014309\n",
      "2               Lasso default  0.601920      0.616227      0.014307\n",
      "6          Lasso MinMaxScaler  0.601729      0.615800      0.014071\n",
      "18                linereg log  0.588948      0.609688      0.020740\n",
      "11  ElasticNet StandardScaler  0.564929      0.576141      0.011212\n",
      "14           Lasso Polynomial  0.574542      0.574232      0.000310\n",
      "15      ElasticNet Polynomial  0.556844      0.543706      0.013138\n",
      "3          ElasticNet default  0.470794      0.475841      0.005047\n",
      "7     ElasticNet MinMaxScaler  0.138556      0.140066      0.001510\n",
      "16                Native mean -0.000000     -0.000002      0.000002\n",
      "17              Native Median -0.059595     -0.056734      0.002861\n",
      "12          Linear Polynomial  0.576636  -6129.088490   6129.665126\n",
      "13           Ridge Polynomial  0.578992 -13177.867996  13178.446988\n",
      "\n",
      "Top 10 stable models:\n",
      "                        model     train      test    stable\n",
      "16                Native mean -0.000000 -0.000002  0.000002\n",
      "14           Lasso Polynomial  0.574542  0.574232  0.000310\n",
      "7     ElasticNet MinMaxScaler  0.138556  0.140066  0.001510\n",
      "17              Native Median -0.059595 -0.056734  0.002861\n",
      "3          ElasticNet default  0.470794  0.475841  0.005047\n",
      "11  ElasticNet StandardScaler  0.564929  0.576141  0.011212\n",
      "15      ElasticNet Polynomial  0.556844  0.543706  0.013138\n",
      "6          Lasso MinMaxScaler  0.601729  0.615800  0.014071\n",
      "2               Lasso default  0.601920  0.616227  0.014307\n",
      "5          Ridge MinMaxScaler  0.602024  0.616333  0.014309\n"
     ]
    }
   ],
   "source": [
    "print(\"Results for R2:\")\n",
    "result_R2['stable'] = np.abs(result_R2['train'].astype(float) - result_R2['test'].astype(float))\n",
    "\n",
    "print(\"Best models:\")\n",
    "print(result_R2.sort_values(by='test', ascending=False), end='\\n\\n')\n",
    "\n",
    "print(\"Top 10 stable models:\")\n",
    "print(result_R2.sort_values(by='stable')[:10])"
   ]
  },
  {
   "cell_type": "code",
   "execution_count": 269,
   "id": "f8ca92bf2f260970",
   "metadata": {
    "ExecuteTime": {
     "end_time": "2025-03-05T11:16:29.552802Z",
     "start_time": "2025-03-05T11:16:29.545438Z"
    }
   },
   "outputs": [
    {
     "name": "stdout",
     "output_type": "stream",
     "text": [
      "Results for MAE:\n",
      "Best models:\n",
      "                        model        train         test       stable\n",
      "18                linereg log   668.010594   672.079182     4.068588\n",
      "2               Lasso default   686.455762   688.619712     2.163950\n",
      "10       Lasso StandardScaler   686.739547   688.838515     2.098968\n",
      "1               Ridge default   687.026383   689.007983     1.981600\n",
      "9        Ridge StandardScaler   687.029271   689.009310     1.980039\n",
      "0             linereg default   687.030471   689.010155     1.979684\n",
      "8       Linear StandardScaler   687.030471   689.010155     1.979684\n",
      "4         Linear MinMaxScaler   687.030471   689.010155     1.979684\n",
      "6          Lasso MinMaxScaler   686.642636   689.032914     2.390278\n",
      "5          Ridge MinMaxScaler   687.156337   689.224459     2.068121\n",
      "11  ElasticNet StandardScaler   712.635677   717.578553     4.942876\n",
      "14           Lasso Polynomial   722.187508   730.874546     8.687038\n",
      "15      ElasticNet Polynomial   734.039512   741.336699     7.297188\n",
      "3          ElasticNet default   777.012834   785.570792     8.557958\n",
      "7     ElasticNet MinMaxScaler  1042.968244  1056.130500    13.162256\n",
      "17              Native Median  1079.734162  1092.167132    12.432970\n",
      "16                Native mean  1131.595620  1145.200434    13.604815\n",
      "12          Linear Polynomial   720.089363  2010.053539  1289.964176\n",
      "13           Ridge Polynomial   718.821785  2612.443351  1893.621566\n",
      "\n",
      "Top 10 stable models:\n",
      "                    model       train        test    stable\n",
      "0         linereg default  687.030471  689.010155  1.979684\n",
      "8   Linear StandardScaler  687.030471  689.010155  1.979684\n",
      "4     Linear MinMaxScaler  687.030471  689.010155  1.979684\n",
      "9    Ridge StandardScaler  687.029271  689.009310  1.980039\n",
      "1           Ridge default  687.026383  689.007983  1.981600\n",
      "5      Ridge MinMaxScaler  687.156337  689.224459  2.068121\n",
      "10   Lasso StandardScaler  686.739547  688.838515  2.098968\n",
      "2           Lasso default  686.455762  688.619712  2.163950\n",
      "6      Lasso MinMaxScaler  686.642636  689.032914  2.390278\n",
      "18            linereg log  668.010594  672.079182  4.068588\n"
     ]
    }
   ],
   "source": [
    "print(\"Results for MAE:\")\n",
    "result_MAE['stable'] = np.abs(result_MAE['train'].astype(float) - result_MAE['test'].astype(float))\n",
    "\n",
    "print(\"Best models:\")\n",
    "print(result_MAE.sort_values(by='test'), end='\\n\\n')\n",
    "\n",
    "print(\"Top 10 stable models:\")\n",
    "print(result_MAE.sort_values(by='stable')[:10])"
   ]
  },
  {
   "cell_type": "code",
   "execution_count": 270,
   "id": "cdd3865828b10014",
   "metadata": {
    "ExecuteTime": {
     "end_time": "2025-03-05T11:16:30.604274Z",
     "start_time": "2025-03-05T11:16:30.594558Z"
    }
   },
   "outputs": [
    {
     "name": "stdout",
     "output_type": "stream",
     "text": [
      "Results for MAE:\n",
      "Best models:\n",
      "                        model        train           test         stable\n",
      "0             linereg default   996.991413     994.581205       2.410208\n",
      "8       Linear StandardScaler   996.991413     994.581205       2.410208\n",
      "4         Linear MinMaxScaler   996.991413     994.581205       2.410208\n",
      "9        Ridge StandardScaler   996.991413     994.581591       2.409822\n",
      "1               Ridge default   996.991419     994.584120       2.407299\n",
      "10       Lasso StandardScaler   997.021982     994.705487       2.316495\n",
      "5          Ridge MinMaxScaler   997.038846     994.791755       2.247091\n",
      "2               Lasso default   997.169344     994.928759       2.240585\n",
      "6          Lasso MinMaxScaler   997.408011     995.481718       1.926293\n",
      "18                linereg log  1013.286177    1003.368868       9.917309\n",
      "11  ElasticNet StandardScaler  1042.470034    1045.599981       3.129947\n",
      "14           Lasso Polynomial  1030.889582    1047.951951      17.062369\n",
      "15      ElasticNet Polynomial  1052.112376    1084.868257      32.755881\n",
      "3          ElasticNet default  1149.730017    1162.750102      13.020084\n",
      "7     ElasticNet MinMaxScaler  1466.888679    1489.317710      22.429031\n",
      "16                Native mean  1580.460891    1606.035907      25.575016\n",
      "17              Native Median  1626.873056    1650.964260      24.091204\n",
      "12          Linear Polynomial  1028.349526  125744.243840  124715.894314\n",
      "13           Ridge Polynomial  1025.483763  184371.502850  183346.019087\n",
      "\n",
      "Top 10 stable models:\n",
      "                        model        train         test    stable\n",
      "6          Lasso MinMaxScaler   997.408011   995.481718  1.926293\n",
      "2               Lasso default   997.169344   994.928759  2.240585\n",
      "5          Ridge MinMaxScaler   997.038846   994.791755  2.247091\n",
      "10       Lasso StandardScaler   997.021982   994.705487  2.316495\n",
      "1               Ridge default   996.991419   994.584120  2.407299\n",
      "9        Ridge StandardScaler   996.991413   994.581591  2.409822\n",
      "4         Linear MinMaxScaler   996.991413   994.581205  2.410208\n",
      "8       Linear StandardScaler   996.991413   994.581205  2.410208\n",
      "0             linereg default   996.991413   994.581205  2.410208\n",
      "11  ElasticNet StandardScaler  1042.470034  1045.599981  3.129947\n"
     ]
    }
   ],
   "source": [
    "print(\"Results for MAE:\")\n",
    "result_RMSE['stable'] = np.abs(result_RMSE['train'].astype(float) - result_RMSE['test'].astype(float))\n",
    "\n",
    "print(\"Best models:\")\n",
    "print(result_RMSE.sort_values(by='test'), end='\\n\\n')\n",
    "\n",
    "print(\"Top 10 stable models:\")\n",
    "print(result_RMSE.sort_values(by='stable')[:10])"
   ]
  },
  {
   "cell_type": "markdown",
   "id": "8d9996c9dcaaf6be",
   "metadata": {},
   "source": [
    "### 11. Задача на сложение"
   ]
  },
  {
   "cell_type": "code",
   "execution_count": 271,
   "id": "de108cdfe59ab30",
   "metadata": {
    "ExecuteTime": {
     "end_time": "2025-03-05T11:16:31.880196Z",
     "start_time": "2025-03-05T11:16:31.726086Z"
    }
   },
   "outputs": [
    {
     "data": {
      "image/png": "[encoded data removed]",
      "text/plain": [
       "<Figure size 2000x800 with 1 Axes>"
      ]
     },
     "metadata": {},
     "output_type": "display_data"
    }
   ],
   "source": [
    "plt.figure(figsize=(20, 8))\n",
    "plt.title('Distribution of price')\n",
    "plt.hist(result_df['price'], bins=20, color='green')\n",
    "plt.show()"
   ]
  },
  {
   "cell_type": "code",
   "execution_count": 272,
   "id": "5a9a5986dcf2057c",
   "metadata": {
    "ExecuteTime": {
     "end_time": "2025-03-05T11:16:32.178200Z",
     "start_time": "2025-03-05T11:16:32.139564Z"
    }
   },
   "outputs": [],
   "source": [
    "log_y = np.log1p(y)\n",
    "\n",
    "X_train, X_test, y_train, y_test = train_test_split(X, log_y, test_size=0.2, random_state=21)\n",
    "model = LinearRegression()\n",
    "model.fit(X_train, y_train)\n",
    "\n",
    "y_pred_train_log = model.predict(X_train)\n",
    "y_pred_test_log = model.predict(X_test)\n",
    "\n",
    "y_train_pred = np.expm1(y_pred_train_log)\n",
    "y_test_pred = np.expm1(y_pred_test_log)\n",
    "y_train = np.expm1(y_train)\n",
    "y_test = np.expm1(y_test)\n",
    "\n",
    "r2_train = r2_score(y_train, y_train_pred)\n",
    "r2_test = r2_score(y_test, y_test_pred)\n",
    "\n",
    "mae_train = mean_absolute_error(y_train, y_train_pred)\n",
    "mae_test = mean_absolute_error(y_test, y_test_pred)\n",
    "\n",
    "rmse_train = np.sqrt(mean_squared_error(y_train, y_train_pred))\n",
    "rmse_test = np.sqrt(mean_squared_error(y_test, y_test_pred))\n",
    "\n",
    "model_name = 'linereg log'\n",
    "if model_name not in result_R2['model'].values:\n",
    "    result_R2.loc[len(result_R2)] = [model_name, r2_train, r2_test, np.abs(r2_test - r2_train)]\n",
    "    result_MAE.loc[len(result_MAE)] = [model_name, mae_train, mae_test, np.abs(mae_test - mae_train)]\n",
    "    result_RMSE.loc[len(result_RMSE)] = [model_name, rmse_train, rmse_test, np.abs(rmse_test - rmse_train)]"
   ]
  },
  {
   "cell_type": "code",
   "execution_count": 332,
   "id": "51c35db0ed698664",
   "metadata": {
    "ExecuteTime": {
     "end_time": "2025-03-05T11:46:21.882285Z",
     "start_time": "2025-03-05T11:46:21.841912Z"
    }
   },
   "outputs": [],
   "source": [
    "X = df_copy.drop(columns=['price'])\n",
    "y = df_copy['price']\n",
    "\n",
    "X_train, X_test, y_train, y_test = train_test_split(X, y, test_size=0.2, random_state=21)\n",
    "\n",
    "Q1 = np.percentile(y_train, 25)\n",
    "Q3 = np.percentile(y_train, 75)\n",
    "IQR = Q3 - Q1\n",
    "lower = Q1 - 1.5 * IQR\n",
    "upper = Q3 + 1.5 * IQR\n",
    "\n",
    "mask = (y_train > lower) & (y_train < upper)\n",
    "\n",
    "X_train = X_train[mask]\n",
    "y_train = y_train[mask]\n",
    "\n",
    "model = LinearRegression().fit(X_train, y_train)\n",
    "y_train_pred = model.predict(X_train)\n",
    "y_test_pred = model.predict(X_test)\n",
    "\n",
    "r2_train = r2_score(y_train, y_train_pred)\n",
    "r2_test = r2_score(y_test, y_test_pred)\n",
    "\n",
    "mae_train = mean_absolute_error(y_train, y_train_pred)\n",
    "mae_test = mean_absolute_error(y_test, y_test_pred)\n",
    "\n",
    "rmse_train = np.sqrt(mean_squared_error(y_train, y_train_pred))\n",
    "rmse_test = np.sqrt(mean_squared_error(y_test, y_test_pred))\n",
    "\n",
    "model_name = 'linereg mask'\n",
    "if model_name not in result_R2['model'].values:\n",
    "    result_R2.loc[len(result_R2)] = [model_name, r2_train, r2_test, np.abs(r2_test - r2_train)]\n",
    "    result_MAE.loc[len(result_MAE)] = [model_name, mae_train, mae_test, np.abs(mae_test - mae_train)]\n",
    "    result_RMSE.loc[len(result_RMSE)] = [model_name, rmse_train, rmse_test, np.abs(rmse_test - rmse_train)]\n",
    "elif model_name == result_R2.loc[len(result_R2) - 1, 'model']:\n",
    "    result_R2.loc[len(result_R2) - 1] = [model_name, r2_train, r2_test, np.abs(r2_test - r2_train)]\n",
    "    result_MAE.loc[len(result_MAE) - 1] = [model_name, mae_train, mae_test, np.abs(mae_test - mae_train)]\n",
    "    result_RMSE.loc[len(result_RMSE) - 1] = [model_name, rmse_train, rmse_test, np.abs(rmse_test - rmse_train)]"
   ]
  },
  {
   "cell_type": "code",
   "execution_count": 334,
   "id": "9f8f77aef484e62c",
   "metadata": {
    "ExecuteTime": {
     "end_time": "2025-03-05T11:58:19.178811Z",
     "start_time": "2025-03-05T11:58:19.171440Z"
    }
   },
   "outputs": [
    {
     "name": "stdout",
     "output_type": "stream",
     "text": [
      "Results R2:\n",
      "                        model     train          test        stable\n",
      "0             linereg default  0.602062      0.616495      0.014433\n",
      "1               Ridge default  0.602062      0.616493      0.014431\n",
      "2               Lasso default  0.601920      0.616227      0.014307\n",
      "3          ElasticNet default  0.470794      0.475841      0.005047\n",
      "4         Linear MinMaxScaler  0.602062      0.616495      0.014433\n",
      "5          Ridge MinMaxScaler  0.602024      0.616333      0.014309\n",
      "6          Lasso MinMaxScaler  0.601729      0.615800      0.014071\n",
      "7     ElasticNet MinMaxScaler  0.138556      0.140066      0.001510\n",
      "8       Linear StandardScaler  0.602062      0.616495      0.014433\n",
      "9        Ridge StandardScaler  0.602062      0.616495      0.014433\n",
      "10       Lasso StandardScaler  0.602038      0.616399      0.014361\n",
      "11  ElasticNet StandardScaler  0.564929      0.576141      0.011212\n",
      "12          Linear Polynomial  0.576636  -6129.088490   6129.665126\n",
      "13           Ridge Polynomial  0.578992 -13177.867996  13178.446988\n",
      "14           Lasso Polynomial  0.574542      0.574232      0.000310\n",
      "15      ElasticNet Polynomial  0.556844      0.543706      0.013138\n",
      "16                Native mean -0.000000     -0.000002      0.000002\n",
      "17              Native Median -0.059595     -0.056734      0.002861\n",
      "18                linereg log  0.588948      0.609688      0.020740\n",
      "19               linereg mask  0.562232      0.293205      0.269028\n",
      "\n",
      "Results MAE:\n",
      "                        model        train         test       stable\n",
      "0             linereg default   687.030471   689.010155     1.979684\n",
      "1               Ridge default   687.026383   689.007983     1.981600\n",
      "2               Lasso default   686.455762   688.619712     2.163950\n",
      "3          ElasticNet default   777.012834   785.570792     8.557958\n",
      "4         Linear MinMaxScaler   687.030471   689.010155     1.979684\n",
      "5          Ridge MinMaxScaler   687.156337   689.224459     2.068121\n",
      "6          Lasso MinMaxScaler   686.642636   689.032914     2.390278\n",
      "7     ElasticNet MinMaxScaler  1042.968244  1056.130500    13.162256\n",
      "8       Linear StandardScaler   687.030471   689.010155     1.979684\n",
      "9        Ridge StandardScaler   687.029271   689.009310     1.980039\n",
      "10       Lasso StandardScaler   686.739547   688.838515     2.098968\n",
      "11  ElasticNet StandardScaler   712.635677   717.578553     4.942876\n",
      "12          Linear Polynomial   720.089363  2010.053539  1289.964176\n",
      "13           Ridge Polynomial   718.821785  2612.443351  1893.621566\n",
      "14           Lasso Polynomial   722.187508   730.874546     8.687038\n",
      "15      ElasticNet Polynomial   734.039512   741.336699     7.297188\n",
      "16                Native mean  1131.595620  1145.200434    13.604815\n",
      "17              Native Median  1079.734162  1092.167132    12.432970\n",
      "18                linereg log   668.010594   672.079182     4.068588\n",
      "19               linereg mask   568.267507   808.413688   240.146181\n",
      "\n",
      "Results RMSE:\n",
      "                        model        train           test         stable\n",
      "0             linereg default   996.991413     994.581205       2.410208\n",
      "1               Ridge default   996.991419     994.584120       2.407299\n",
      "2               Lasso default   997.169344     994.928759       2.240585\n",
      "3          ElasticNet default  1149.730017    1162.750102      13.020084\n",
      "4         Linear MinMaxScaler   996.991413     994.581205       2.410208\n",
      "5          Ridge MinMaxScaler   997.038846     994.791755       2.247091\n",
      "6          Lasso MinMaxScaler   997.408011     995.481718       1.926293\n",
      "7     ElasticNet MinMaxScaler  1466.888679    1489.317710      22.429031\n",
      "8       Linear StandardScaler   996.991413     994.581205       2.410208\n",
      "9        Ridge StandardScaler   996.991413     994.581591       2.409822\n",
      "10       Lasso StandardScaler   997.021982     994.705487       2.316495\n",
      "11  ElasticNet StandardScaler  1042.470034    1045.599981       3.129947\n",
      "12          Linear Polynomial  1028.349526  125744.243840  124715.894314\n",
      "13           Ridge Polynomial  1025.483763  184371.502850  183346.019087\n",
      "14           Lasso Polynomial  1030.889582    1047.951951      17.062369\n",
      "15      ElasticNet Polynomial  1052.112376    1084.868257      32.755881\n",
      "16                Native mean  1580.460891    1606.035907      25.575016\n",
      "17              Native Median  1626.873056    1650.964260      24.091204\n",
      "18                linereg log  1013.286177    1003.368868       9.917309\n",
      "19               linereg mask   748.084584    2246.441091    1498.356507\n"
     ]
    }
   ],
   "source": [
    "print_metrics()"
   ]
  }
 ],
 "metadata": {
  "kernelspec": {
   "display_name": "Python 3 (ipykernel)",
   "language": "python",
   "name": "python3"
  },
  "language_info": {
   "codemirror_mode": {
    "name": "ipython",
    "version": 3
   },
   "file_extension": ".py",
   "mimetype": "text/x-python",
   "name": "python",
   "nbconvert_exporter": "python",
   "pygments_lexer": "ipython3",
   "version": "3.11.11"
  }
 },
 "nbformat": 4,
 "nbformat_minor": 5
}
