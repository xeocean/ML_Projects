{
 "cells": [
  {
   "cell_type": "markdown",
   "id": "f3f19cb0b821510e",
   "metadata": {},
   "source": [
    "### 1. Вопросы\n",
    "\n",
    "1. Методы разделение данных:\n",
    "\n",
    "| Метод                        | Описание                                                                 | Плюсы                                                                 | Минусы                                                               |\n",
    "|------------------------------|-------------------------------------------------------------------------|----------------------------------------------------------------------|----------------------------------------------------------------------|\n",
    "| Leave-One-Out (LOO)          | В каждом цикле тестовая выборка состоит из одного наблюдения.         | Использует максимум данных для обучения.                             | Дорого по вычислениям, высокая дисперсия.                           |\n",
    "| Hold-Out                     | Простое разбиение на train/test (например, 80/20).                     | Быстро и просто.                                                     | Результаты зависят от конкретного разбиения.                        |\n",
    "| K-Fold Cross-Validation      | Данные делятся на K частей, каждый фолд становится тестовым по очереди.| Более стабильная оценка модели.                                      | Требует K-кратного обучения модели.                                 |\n",
    "| Stratified K-Fold            | Как K-Fold, но с равномерным распределением классов.                   | Подходит для несбалансированных данных.                             | Дольше, чем обычный K-Fold.                                         |\n",
    "| Time Series Split            | Разбиение с учетом временного порядка данных.                         | Подходит для временных рядов.                                       | Старые данные могут не отражать будущие тренды.                     |\n",
    "| Group K-Fold                 | Данные делятся так, чтобы объекты одной группы не попадали в train/test.| Предотвращает утечку информации.                                    | Менее гибкое разбиение.                                             |\n",
    "| Leave-P-Out                  | В тест отправляются P случайных объектов.                             | Дает точную оценку, как LOO.                                        | Очень дорого по вычислениям при больших P.                          |\n",
    "| Monte Carlo Split            | Многократное случайное разбиение train/test.                          | Гибкость в размере выборок.                                         | Возможны повторяющиеся тестовые данные.                             |\n",
    "\n",
    "\n",
    "2. Методы подбора гиперпараметров:\n",
    "\n",
    "| Метод                        | Описание                                                                 | Плюсы                                                                 | Минусы                                                               |\n",
    "|------------------------------|-------------------------------------------------------------------------|----------------------------------------------------------------------|----------------------------------------------------------------------|\n",
    "| Grid Search                  | Полный перебор всех возможных комбинаций гиперпараметров.               | Гарантированно находит лучший вариант, прост в реализации.          | Очень дорогой по вычислениям, неэффективен для непрерывных параметров. |\n",
    "| Randomized Search            | Случайный выбор гиперпараметров в заданном диапазоне.                   | Быстрее, чем Grid Search, охватывает больше значений.               | Нет гарантии нахождения оптимального варианта.                      |\n",
    "| Bayesian Optimization        | Строит вероятностную модель зависимости гиперпараметров от метрики.     | Эффективнее, чем полный перебор, использует информацию о предыдущих тестах. | Сложнее в реализации, требует вычислительных затрат на прогнозирование. |\n",
    "\n",
    "3. Методы отбора признаков:\n",
    "- Методы фильтрации - оценивают важность признаков независимо от модели машинного обучения. Они используют статистические или информационные меры для определения значимости каждого признака и отбрасывают те, которые имеют наименьшее влияние на целевую переменную:\n",
    "    - Корреляция Пирсона: используется для выявления линейной зависимости между признаками и целевой переменной.\n",
    "    - Тест Хи-квадрат: применим для категориальных данных, чтобы измерить зависимость между признаками и целевой переменной.\n",
    "- Методы обертки - используют модель машинного обучения для оценки качества подмножества признаков. Эти методы обучают модель на различных подмножествах признаков и оценивают производительность, чтобы выбрать оптимальное подмножество:\n",
    "     - Рекурсивное исключение признаков (RFE): метод, который поочередно исключает наименее важные признаки, обучая модель на каждом шаге.\n",
    "     - Пошаговый отбор (Forward/Backward Selection): начинается с одного признака и добавляются/удаляются признаки на основе их влияния на производительность модели.\n",
    "-  Встроенные методы - выполняют выбор признаков во время обучения модели. Они используют алгоритм машинного обучения, который автоматически оценивает важность признаков в процессе обучения:\n",
    "     - Lasso (L1 регуляризация): заставляет коэффициенты признаков стремиться к нулю, тем самым удаляя менее важные признаки.\n",
    "     - Ridge (L2 регуляризация): ограничивает величину коэффициентов признаков, но не делает их равными нулю."
   ]
  },
  {
   "cell_type": "markdown",
   "id": "566c303eb4a84194",
   "metadata": {},
   "source": [
    "### 2. Введение"
   ]
  },
  {
   "cell_type": "code",
   "id": "2eea677175b05819",
   "metadata": {
    "ExecuteTime": {
     "end_time": "2025-03-14T12:28:03.159646Z",
     "start_time": "2025-03-14T12:28:03.156555Z"
    }
   },
   "source": [
    "import pandas as pd\n",
    "import numpy as np\n",
    "import shap\n",
    "import math\n",
    "import optuna\n",
    "import logging\n",
    "from collections import Counter\n",
    "from sklearn.model_selection import train_test_split, KFold, GroupKFold, StratifiedKFold, TimeSeriesSplit\n",
    "from sklearn.linear_model import LassoCV, ElasticNet\n",
    "from sklearn.metrics import mean_squared_error, mean_absolute_error, r2_score\n",
    "from sklearn.inspection import permutation_importance\n",
    "from sklearn.model_selection import cross_val_score, GridSearchCV, RandomizedSearchCV"
   ],
   "outputs": [],
   "execution_count": 105
  },
  {
   "cell_type": "code",
   "execution_count": 2,
   "id": "1c8fac1a0cd438db",
   "metadata": {
    "ExecuteTime": {
     "end_time": "2025-03-14T11:14:59.117532Z",
     "start_time": "2025-03-14T11:14:58.178363Z"
    }
   },
   "outputs": [
    {
     "data": {
      "text/html": [
       "<div>\n",
       "<style scoped>\n",
       "    .dataframe tbody tr th:only-of-type {\n",
       "        vertical-align: middle;\n",
       "    }\n",
       "\n",
       "    .dataframe tbody tr th {\n",
       "        vertical-align: top;\n",
       "    }\n",
       "\n",
       "    .dataframe thead th {\n",
       "        text-align: right;\n",
       "    }\n",
       "</style>\n",
       "<table border=\"1\" class=\"dataframe\">\n",
       "  <thead>\n",
       "    <tr style=\"text-align: right;\">\n",
       "      <th></th>\n",
       "      <th>bathrooms</th>\n",
       "      <th>bedrooms</th>\n",
       "      <th>building_id</th>\n",
       "      <th>created</th>\n",
       "      <th>description</th>\n",
       "      <th>display_address</th>\n",
       "      <th>features</th>\n",
       "      <th>latitude</th>\n",
       "      <th>listing_id</th>\n",
       "      <th>longitude</th>\n",
       "      <th>manager_id</th>\n",
       "      <th>photos</th>\n",
       "      <th>price</th>\n",
       "      <th>street_address</th>\n",
       "      <th>interest_level</th>\n",
       "    </tr>\n",
       "  </thead>\n",
       "  <tbody>\n",
       "    <tr>\n",
       "      <th>4</th>\n",
       "      <td>1.0</td>\n",
       "      <td>1</td>\n",
       "      <td>8579a0b0d54db803821a35a4a615e97a</td>\n",
       "      <td>2016-06-16 05:55:27</td>\n",
       "      <td>Spacious 1 Bedroom 1 Bathroom in Williamsburg!...</td>\n",
       "      <td>145 Borinquen Place</td>\n",
       "      <td>[Dining Room, Pre-War, Laundry in Building, Di...</td>\n",
       "      <td>40.7108</td>\n",
       "      <td>7170325</td>\n",
       "      <td>-73.9539</td>\n",
       "      <td>a10db4590843d78c784171a107bdacb4</td>\n",
       "      <td>[https://photos.renthop.com/2/7170325_3bb5ac84...</td>\n",
       "      <td>2400</td>\n",
       "      <td>145 Borinquen Place</td>\n",
       "      <td>medium</td>\n",
       "    </tr>\n",
       "    <tr>\n",
       "      <th>6</th>\n",
       "      <td>1.0</td>\n",
       "      <td>2</td>\n",
       "      <td>b8e75fc949a6cd8225b455648a951712</td>\n",
       "      <td>2016-06-01 05:44:33</td>\n",
       "      <td>BRAND NEW GUT RENOVATED TRUE 2 BEDROOMFind you...</td>\n",
       "      <td>East 44th</td>\n",
       "      <td>[Doorman, Elevator, Laundry in Building, Dishw...</td>\n",
       "      <td>40.7513</td>\n",
       "      <td>7092344</td>\n",
       "      <td>-73.9722</td>\n",
       "      <td>955db33477af4f40004820b4aed804a0</td>\n",
       "      <td>[https://photos.renthop.com/2/7092344_7663c19a...</td>\n",
       "      <td>3800</td>\n",
       "      <td>230 East 44th</td>\n",
       "      <td>low</td>\n",
       "    </tr>\n",
       "    <tr>\n",
       "      <th>9</th>\n",
       "      <td>1.0</td>\n",
       "      <td>2</td>\n",
       "      <td>cd759a988b8f23924b5a2058d5ab2b49</td>\n",
       "      <td>2016-06-14 15:19:59</td>\n",
       "      <td>**FLEX 2 BEDROOM WITH FULL PRESSURIZED WALL**L...</td>\n",
       "      <td>East 56th Street</td>\n",
       "      <td>[Doorman, Elevator, Laundry in Building, Laund...</td>\n",
       "      <td>40.7575</td>\n",
       "      <td>7158677</td>\n",
       "      <td>-73.9625</td>\n",
       "      <td>c8b10a317b766204f08e613cef4ce7a0</td>\n",
       "      <td>[https://photos.renthop.com/2/7158677_c897a134...</td>\n",
       "      <td>3495</td>\n",
       "      <td>405 East 56th Street</td>\n",
       "      <td>medium</td>\n",
       "    </tr>\n",
       "  </tbody>\n",
       "</table>\n",
       "</div>"
      ],
      "text/plain": [
       "   bathrooms  bedrooms                       building_id              created  \\\n",
       "4        1.0         1  8579a0b0d54db803821a35a4a615e97a  2016-06-16 05:55:27   \n",
       "6        1.0         2  b8e75fc949a6cd8225b455648a951712  2016-06-01 05:44:33   \n",
       "9        1.0         2  cd759a988b8f23924b5a2058d5ab2b49  2016-06-14 15:19:59   \n",
       "\n",
       "                                         description      display_address  \\\n",
       "4  Spacious 1 Bedroom 1 Bathroom in Williamsburg!...  145 Borinquen Place   \n",
       "6  BRAND NEW GUT RENOVATED TRUE 2 BEDROOMFind you...            East 44th   \n",
       "9  **FLEX 2 BEDROOM WITH FULL PRESSURIZED WALL**L...     East 56th Street   \n",
       "\n",
       "                                            features  latitude  listing_id  \\\n",
       "4  [Dining Room, Pre-War, Laundry in Building, Di...   40.7108     7170325   \n",
       "6  [Doorman, Elevator, Laundry in Building, Dishw...   40.7513     7092344   \n",
       "9  [Doorman, Elevator, Laundry in Building, Laund...   40.7575     7158677   \n",
       "\n",
       "   longitude                        manager_id  \\\n",
       "4   -73.9539  a10db4590843d78c784171a107bdacb4   \n",
       "6   -73.9722  955db33477af4f40004820b4aed804a0   \n",
       "9   -73.9625  c8b10a317b766204f08e613cef4ce7a0   \n",
       "\n",
       "                                              photos  price  \\\n",
       "4  [https://photos.renthop.com/2/7170325_3bb5ac84...   2400   \n",
       "6  [https://photos.renthop.com/2/7092344_7663c19a...   3800   \n",
       "9  [https://photos.renthop.com/2/7158677_c897a134...   3495   \n",
       "\n",
       "         street_address interest_level  \n",
       "4   145 Borinquen Place         medium  \n",
       "6         230 East 44th            low  \n",
       "9  405 East 56th Street         medium  "
      ]
     },
     "execution_count": 2,
     "metadata": {},
     "output_type": "execute_result"
    }
   ],
   "source": [
    "df = pd.read_json('data/train.json')\n",
    "df.head(3)"
   ]
  },
  {
   "cell_type": "code",
   "execution_count": 3,
   "id": "74b89a86fb176eb",
   "metadata": {
    "ExecuteTime": {
     "end_time": "2025-03-14T11:14:59.137572Z",
     "start_time": "2025-03-14T11:14:59.119357Z"
    }
   },
   "outputs": [],
   "source": [
    "lower = df['price'].quantile(0.01)\n",
    "upper = df['price'].quantile(0.99)\n",
    "df = df[(df['price'] > lower) & (df['price'] < upper)]"
   ]
  },
  {
   "cell_type": "code",
   "execution_count": 4,
   "id": "eb9a92a49eb0aafe",
   "metadata": {
    "ExecuteTime": {
     "end_time": "2025-03-14T11:14:59.191599Z",
     "start_time": "2025-03-14T11:14:59.138647Z"
    }
   },
   "outputs": [],
   "source": [
    "pd.set_option('future.no_silent_downcasting', True)\n",
    "df['interest_level'] = df['interest_level'].replace({'low': 0, 'medium': 1, 'high': 2}).astype(int)\n",
    "features_list = [item for row in df['features'] for item in row]\n",
    "most_common = [name for name, count in Counter(features_list).most_common(20)]"
   ]
  },
  {
   "cell_type": "code",
   "execution_count": 5,
   "id": "4f7077bc1827b4e4",
   "metadata": {
    "ExecuteTime": {
     "end_time": "2025-03-14T11:14:59.616622Z",
     "start_time": "2025-03-14T11:14:59.193319Z"
    }
   },
   "outputs": [],
   "source": [
    "result_df = df[['bathrooms', 'bedrooms', 'interest_level', 'created', 'price', 'features']].copy()\n",
    "\n",
    "for feature in most_common:\n",
    "    result_df[feature] = df['features'].apply(lambda x: 1 if feature in x else 0)\n",
    "\n",
    "result_df = result_df.drop('features', axis=1)"
   ]
  },
  {
   "cell_type": "code",
   "execution_count": 6,
   "id": "b652229ef89aec2d",
   "metadata": {
    "ExecuteTime": {
     "end_time": "2025-03-14T11:14:59.634824Z",
     "start_time": "2025-03-14T11:14:59.617974Z"
    }
   },
   "outputs": [
    {
     "data": {
      "text/html": [
       "<div>\n",
       "<style scoped>\n",
       "    .dataframe tbody tr th:only-of-type {\n",
       "        vertical-align: middle;\n",
       "    }\n",
       "\n",
       "    .dataframe tbody tr th {\n",
       "        vertical-align: top;\n",
       "    }\n",
       "\n",
       "    .dataframe thead th {\n",
       "        text-align: right;\n",
       "    }\n",
       "</style>\n",
       "<table border=\"1\" class=\"dataframe\">\n",
       "  <thead>\n",
       "    <tr style=\"text-align: right;\">\n",
       "      <th></th>\n",
       "      <th>bathrooms</th>\n",
       "      <th>bedrooms</th>\n",
       "      <th>interest_level</th>\n",
       "      <th>created</th>\n",
       "      <th>price</th>\n",
       "      <th>Elevator</th>\n",
       "      <th>Hardwood Floors</th>\n",
       "      <th>Cats Allowed</th>\n",
       "      <th>Dogs Allowed</th>\n",
       "      <th>Doorman</th>\n",
       "      <th>...</th>\n",
       "      <th>Laundry in Unit</th>\n",
       "      <th>Roof Deck</th>\n",
       "      <th>Outdoor Space</th>\n",
       "      <th>Dining Room</th>\n",
       "      <th>High Speed Internet</th>\n",
       "      <th>Balcony</th>\n",
       "      <th>Swimming Pool</th>\n",
       "      <th>Laundry In Building</th>\n",
       "      <th>New Construction</th>\n",
       "      <th>Terrace</th>\n",
       "    </tr>\n",
       "  </thead>\n",
       "  <tbody>\n",
       "    <tr>\n",
       "      <th>4</th>\n",
       "      <td>1.0</td>\n",
       "      <td>1</td>\n",
       "      <td>1</td>\n",
       "      <td>2016-06-16 05:55:27</td>\n",
       "      <td>2400</td>\n",
       "      <td>0</td>\n",
       "      <td>1</td>\n",
       "      <td>1</td>\n",
       "      <td>1</td>\n",
       "      <td>0</td>\n",
       "      <td>...</td>\n",
       "      <td>0</td>\n",
       "      <td>0</td>\n",
       "      <td>0</td>\n",
       "      <td>1</td>\n",
       "      <td>0</td>\n",
       "      <td>0</td>\n",
       "      <td>0</td>\n",
       "      <td>0</td>\n",
       "      <td>0</td>\n",
       "      <td>0</td>\n",
       "    </tr>\n",
       "    <tr>\n",
       "      <th>6</th>\n",
       "      <td>1.0</td>\n",
       "      <td>2</td>\n",
       "      <td>0</td>\n",
       "      <td>2016-06-01 05:44:33</td>\n",
       "      <td>3800</td>\n",
       "      <td>1</td>\n",
       "      <td>1</td>\n",
       "      <td>0</td>\n",
       "      <td>0</td>\n",
       "      <td>1</td>\n",
       "      <td>...</td>\n",
       "      <td>0</td>\n",
       "      <td>0</td>\n",
       "      <td>0</td>\n",
       "      <td>0</td>\n",
       "      <td>0</td>\n",
       "      <td>0</td>\n",
       "      <td>0</td>\n",
       "      <td>0</td>\n",
       "      <td>0</td>\n",
       "      <td>0</td>\n",
       "    </tr>\n",
       "    <tr>\n",
       "      <th>9</th>\n",
       "      <td>1.0</td>\n",
       "      <td>2</td>\n",
       "      <td>1</td>\n",
       "      <td>2016-06-14 15:19:59</td>\n",
       "      <td>3495</td>\n",
       "      <td>1</td>\n",
       "      <td>1</td>\n",
       "      <td>0</td>\n",
       "      <td>0</td>\n",
       "      <td>1</td>\n",
       "      <td>...</td>\n",
       "      <td>1</td>\n",
       "      <td>0</td>\n",
       "      <td>0</td>\n",
       "      <td>0</td>\n",
       "      <td>0</td>\n",
       "      <td>0</td>\n",
       "      <td>0</td>\n",
       "      <td>0</td>\n",
       "      <td>0</td>\n",
       "      <td>0</td>\n",
       "    </tr>\n",
       "    <tr>\n",
       "      <th>10</th>\n",
       "      <td>1.5</td>\n",
       "      <td>3</td>\n",
       "      <td>1</td>\n",
       "      <td>2016-06-24 07:54:24</td>\n",
       "      <td>3000</td>\n",
       "      <td>0</td>\n",
       "      <td>0</td>\n",
       "      <td>0</td>\n",
       "      <td>0</td>\n",
       "      <td>0</td>\n",
       "      <td>...</td>\n",
       "      <td>0</td>\n",
       "      <td>0</td>\n",
       "      <td>0</td>\n",
       "      <td>0</td>\n",
       "      <td>0</td>\n",
       "      <td>0</td>\n",
       "      <td>0</td>\n",
       "      <td>0</td>\n",
       "      <td>0</td>\n",
       "      <td>0</td>\n",
       "    </tr>\n",
       "    <tr>\n",
       "      <th>15</th>\n",
       "      <td>1.0</td>\n",
       "      <td>0</td>\n",
       "      <td>0</td>\n",
       "      <td>2016-06-28 03:50:23</td>\n",
       "      <td>2795</td>\n",
       "      <td>1</td>\n",
       "      <td>0</td>\n",
       "      <td>0</td>\n",
       "      <td>0</td>\n",
       "      <td>1</td>\n",
       "      <td>...</td>\n",
       "      <td>0</td>\n",
       "      <td>0</td>\n",
       "      <td>0</td>\n",
       "      <td>0</td>\n",
       "      <td>0</td>\n",
       "      <td>0</td>\n",
       "      <td>0</td>\n",
       "      <td>0</td>\n",
       "      <td>0</td>\n",
       "      <td>0</td>\n",
       "    </tr>\n",
       "  </tbody>\n",
       "</table>\n",
       "<p>5 rows × 25 columns</p>\n",
       "</div>"
      ],
      "text/plain": [
       "    bathrooms  bedrooms  interest_level              created  price  Elevator  \\\n",
       "4         1.0         1               1  2016-06-16 05:55:27   2400         0   \n",
       "6         1.0         2               0  2016-06-01 05:44:33   3800         1   \n",
       "9         1.0         2               1  2016-06-14 15:19:59   3495         1   \n",
       "10        1.5         3               1  2016-06-24 07:54:24   3000         0   \n",
       "15        1.0         0               0  2016-06-28 03:50:23   2795         1   \n",
       "\n",
       "    Hardwood Floors  Cats Allowed  Dogs Allowed  Doorman  ...  \\\n",
       "4                 1             1             1        0  ...   \n",
       "6                 1             0             0        1  ...   \n",
       "9                 1             0             0        1  ...   \n",
       "10                0             0             0        0  ...   \n",
       "15                0             0             0        1  ...   \n",
       "\n",
       "    Laundry in Unit  Roof Deck  Outdoor Space  Dining Room  \\\n",
       "4                 0          0              0            1   \n",
       "6                 0          0              0            0   \n",
       "9                 1          0              0            0   \n",
       "10                0          0              0            0   \n",
       "15                0          0              0            0   \n",
       "\n",
       "    High Speed Internet  Balcony  Swimming Pool  Laundry In Building  \\\n",
       "4                     0        0              0                    0   \n",
       "6                     0        0              0                    0   \n",
       "9                     0        0              0                    0   \n",
       "10                    0        0              0                    0   \n",
       "15                    0        0              0                    0   \n",
       "\n",
       "    New Construction  Terrace  \n",
       "4                  0        0  \n",
       "6                  0        0  \n",
       "9                  0        0  \n",
       "10                 0        0  \n",
       "15                 0        0  \n",
       "\n",
       "[5 rows x 25 columns]"
      ]
     },
     "execution_count": 6,
     "metadata": {},
     "output_type": "execute_result"
    }
   ],
   "source": [
    "result_df.head()"
   ]
  },
  {
   "cell_type": "markdown",
   "id": "b243fef5c210b6d2",
   "metadata": {},
   "source": [
    "### 3. Реализация разделения данных"
   ]
  },
  {
   "cell_type": "code",
   "execution_count": 7,
   "id": "4fc217edbe7ab3c6",
   "metadata": {
    "ExecuteTime": {
     "end_time": "2025-03-14T11:14:59.643088Z",
     "start_time": "2025-03-14T11:14:59.635844Z"
    }
   },
   "outputs": [],
   "source": [
    "X = result_df.drop('price', axis=1)\n",
    "y = result_df['price']"
   ]
  },
  {
   "cell_type": "code",
   "execution_count": 8,
   "id": "9ce61fd6aef0fa81",
   "metadata": {
    "ExecuteTime": {
     "end_time": "2025-03-14T11:14:59.648380Z",
     "start_time": "2025-03-14T11:14:59.644957Z"
    }
   },
   "outputs": [],
   "source": [
    "def split_into_two(X, y, test_size=0.2):\n",
    "    indices = np.arange(len(X))\n",
    "    np.random.shuffle(indices)\n",
    "    test_size = int(len(X) * test_size) - 1\n",
    "\n",
    "    test_indices = indices[:test_size]\n",
    "    train_indices = indices[test_size:]\n",
    "    X_train, X_test = X.iloc[train_indices], X.iloc[test_indices]\n",
    "    y_train, y_test = y.iloc[train_indices], y.iloc[test_indices]\n",
    "\n",
    "    return X_train, X_test, y_train, y_test"
   ]
  },
  {
   "cell_type": "code",
   "execution_count": 9,
   "id": "4604cd7c48e5ac50",
   "metadata": {
    "ExecuteTime": {
     "end_time": "2025-03-14T11:14:59.678774Z",
     "start_time": "2025-03-14T11:14:59.649374Z"
    }
   },
   "outputs": [],
   "source": [
    "X_train, X_test, y_train, y_test = split_into_two(X, y, test_size=0.2)"
   ]
  },
  {
   "cell_type": "code",
   "execution_count": 10,
   "id": "a3cd623a19d48293",
   "metadata": {
    "ExecuteTime": {
     "end_time": "2025-03-14T11:14:59.683212Z",
     "start_time": "2025-03-14T11:14:59.679859Z"
    }
   },
   "outputs": [
    {
     "name": "stdout",
     "output_type": "stream",
     "text": [
      "(38676, 24) (9667, 24) (38676,) (9667,)\n"
     ]
    }
   ],
   "source": [
    "print(X_train.shape, X_test.shape, y_train.shape, y_test.shape)"
   ]
  },
  {
   "cell_type": "code",
   "execution_count": 11,
   "id": "dfd499fa67cedc71",
   "metadata": {
    "ExecuteTime": {
     "end_time": "2025-03-14T11:14:59.693031Z",
     "start_time": "2025-03-14T11:14:59.686986Z"
    }
   },
   "outputs": [],
   "source": [
    "def split_into_three(X, y, test_size=0.2, validation_size=0.2):\n",
    "    indices = np.arange(len(X))\n",
    "    # np.random.shuffle(indices)\n",
    "\n",
    "    test_size = int(len(X) * test_size)\n",
    "    valid_size = int(len(X) * validation_size)\n",
    "    train_size = len(X) - test_size - valid_size\n",
    "\n",
    "    test_indices = indices[:test_size]\n",
    "    validation_indices = indices[test_size:test_size + valid_size]\n",
    "    train_indices = indices[test_size + valid_size:]\n",
    "\n",
    "    X_train, X_valid, X_test = X.iloc[train_indices], X.iloc[validation_indices], X.iloc[test_indices],\n",
    "    y_train, y_valid, y_test = y.iloc[train_indices], y.iloc[validation_indices], y.iloc[test_indices],\n",
    "\n",
    "    return X_train, X_valid, X_test, y_train, y_valid, y_test"
   ]
  },
  {
   "cell_type": "code",
   "execution_count": 12,
   "id": "e5308c845521101c",
   "metadata": {
    "ExecuteTime": {
     "end_time": "2025-03-14T11:14:59.714676Z",
     "start_time": "2025-03-14T11:14:59.694161Z"
    }
   },
   "outputs": [],
   "source": [
    "X_train, X_valid, X_test, y_train, y_valid, y_test = split_into_three(X, y, test_size=0.2, validation_size=0.2)"
   ]
  },
  {
   "cell_type": "code",
   "execution_count": 13,
   "id": "ebae57e86be074cd",
   "metadata": {
    "ExecuteTime": {
     "end_time": "2025-03-14T11:14:59.719315Z",
     "start_time": "2025-03-14T11:14:59.715769Z"
    }
   },
   "outputs": [
    {
     "name": "stdout",
     "output_type": "stream",
     "text": [
      "(29007, 24) (9668, 24) (9668, 24) (29007,) (9668,) (9668,)\n"
     ]
    }
   ],
   "source": [
    "print(X_train.shape, X_valid.shape, X_test.shape, y_train.shape, y_valid.shape, y_test.shape)"
   ]
  },
  {
   "cell_type": "code",
   "execution_count": 14,
   "id": "dc57064f3a315b5",
   "metadata": {
    "ExecuteTime": {
     "end_time": "2025-03-14T11:14:59.727076Z",
     "start_time": "2025-03-14T11:14:59.720465Z"
    }
   },
   "outputs": [],
   "source": [
    "def split_date_two(X, y, date_split='2016-06-01'):\n",
    "    X['created'] = pd.to_datetime(X['created'])\n",
    "    X = X.sort_values(by='created')\n",
    "    train_df = X[X['created'] < date_split]\n",
    "    test_df = X[X['created'] >= date_split]\n",
    "\n",
    "    X_train, X_test = X.loc[train_df.index], X.loc[test_df.index]\n",
    "    y_train, y_test = y.loc[train_df.index], y.loc[test_df.index]\n",
    "\n",
    "    return X_train, X_test, y_train, y_test"
   ]
  },
  {
   "cell_type": "code",
   "execution_count": 15,
   "id": "d102e70c103ec3c7",
   "metadata": {
    "ExecuteTime": {
     "end_time": "2025-03-14T11:14:59.784131Z",
     "start_time": "2025-03-14T11:14:59.728057Z"
    }
   },
   "outputs": [],
   "source": [
    "X_train, X_test, y_train, y_test = split_date_two(X, y, date_split='2016-06-01')"
   ]
  },
  {
   "cell_type": "code",
   "execution_count": 16,
   "id": "660e727f9178632c",
   "metadata": {
    "ExecuteTime": {
     "end_time": "2025-03-14T11:14:59.787910Z",
     "start_time": "2025-03-14T11:14:59.785049Z"
    }
   },
   "outputs": [
    {
     "name": "stdout",
     "output_type": "stream",
     "text": [
      "(31551, 24) (16792, 24) (31551,) (16792,)\n"
     ]
    }
   ],
   "source": [
    "print(X_train.shape, X_test.shape, y_train.shape, y_test.shape)"
   ]
  },
  {
   "cell_type": "code",
   "execution_count": 17,
   "id": "5c8c41b4af43d284",
   "metadata": {
    "ExecuteTime": {
     "end_time": "2025-03-14T11:14:59.797078Z",
     "start_time": "2025-03-14T11:14:59.788953Z"
    }
   },
   "outputs": [],
   "source": [
    "def split_date_three(X, y, validation_date='2016-05-01', test_date='2016-06-01'):\n",
    "    X['created'] = pd.to_datetime(X['created'])\n",
    "    X = X.sort_values(by='created')\n",
    "    train_df = X[X['created'] < validation_date]\n",
    "    valid_df = X[(X['created'] >= validation_date) & (X['created'] < test_date)]\n",
    "    test_df = X[X['created'] >= test_date]\n",
    "\n",
    "    X_train, X_valid, X_test = X.loc[train_df.index], X.loc[valid_df.index], X.loc[test_df.index]\n",
    "    y_train, y_valid, y_test = y.loc[train_df.index], y.loc[valid_df.index], y.loc[test_df.index]\n",
    "\n",
    "    return X_train, X_valid, X_test, y_train, y_valid, y_test"
   ]
  },
  {
   "cell_type": "code",
   "execution_count": 18,
   "id": "b5f3a07a421747a1",
   "metadata": {
    "ExecuteTime": {
     "end_time": "2025-03-14T11:14:59.863344Z",
     "start_time": "2025-03-14T11:14:59.798284Z"
    }
   },
   "outputs": [],
   "source": [
    "X_train, X_valid, X_test, y_train, y_valid, y_test = split_date_three(X, y, validation_date='2016-05-01',\n",
    "                                                                      test_date='2016-06-01')"
   ]
  },
  {
   "cell_type": "markdown",
   "id": "59d8726c9c1b5161",
   "metadata": {},
   "source": [
    "### 4. Методы перекрестной проверки"
   ]
  },
  {
   "cell_type": "code",
   "execution_count": 19,
   "id": "40c2d73b61c472c0",
   "metadata": {
    "ExecuteTime": {
     "end_time": "2025-03-14T11:14:59.871132Z",
     "start_time": "2025-03-14T11:14:59.864487Z"
    }
   },
   "outputs": [
    {
     "name": "stdout",
     "output_type": "stream",
     "text": [
      "Fold 1\n",
      "Train index [12086 12087 12088 ... 48340 48341 48342]\n",
      "Test index [    0     1     2 ... 12083 12084 12085]\n",
      "Fold 2\n",
      "Train index [    0     1     2 ... 48340 48341 48342]\n",
      "Test index [12086 12087 12088 ... 24169 24170 24171]\n",
      "Fold 3\n",
      "Train index [    0     1     2 ... 48340 48341 48342]\n",
      "Test index [24172 24173 24174 ... 36255 36256 36257]\n",
      "Fold 4\n",
      "Train index [    0     1     2 ... 36255 36256 36257]\n",
      "Test index [36258 36259 36260 ... 48340 48341 48342]\n"
     ]
    }
   ],
   "source": [
    "def my_kfold(X, k=4):\n",
    "    indices = np.arange(len(X))\n",
    "    fold_size = int(len(X) // k) + 1\n",
    "\n",
    "    current = 0\n",
    "    for i in range(k):\n",
    "        start, stop = current, current + fold_size\n",
    "        test_index = indices[start:stop]\n",
    "        train_index = np.concatenate([indices[:start], indices[stop:]])\n",
    "        current = stop\n",
    "        yield train_index, test_index\n",
    "\n",
    "\n",
    "for fold, (train_index, test_index) in enumerate(my_kfold(X, k=4)):\n",
    "    print(f'Fold {fold + 1}')\n",
    "    print(f'Train index {train_index}')\n",
    "    print(f'Test index {test_index}')"
   ]
  },
  {
   "cell_type": "code",
   "execution_count": 20,
   "id": "be32a4400cdcf043",
   "metadata": {
    "ExecuteTime": {
     "end_time": "2025-03-14T11:14:59.904202Z",
     "start_time": "2025-03-14T11:14:59.872570Z"
    }
   },
   "outputs": [
    {
     "name": "stdout",
     "output_type": "stream",
     "text": [
      "Fold 1\n",
      "Train index [    0     2     3 ... 48340 48341 48342], Group [1 1 1 ... 1 1 2]\n",
      "Test index [    1     4     5 ... 48336 48337 48338], Group [0 0 0 ... 0 0 0]\n",
      "Fold 2\n",
      "Train index [    1     4     5 ... 48337 48338 48342], Group [0 0 0 ... 0 0 2]\n",
      "Test index [    0     2     3 ... 48339 48340 48341], Group [1 1 1 ... 1 1 1]\n",
      "Fold 3\n",
      "Train index [    0     1     2 ... 48339 48340 48341], Group [1 0 1 ... 1 1 1]\n",
      "Test index [    7    17    31 ... 48303 48332 48342], Group [2 2 2 ... 2 2 2]\n"
     ]
    }
   ],
   "source": [
    "def my_group_kfold(X, group, k=3):\n",
    "    indices = np.arange(len(X))\n",
    "    unique_groups = np.unique(group)\n",
    "\n",
    "    for i in range(k):\n",
    "        # Разделение уникальных групп на части для каждого фолда\n",
    "        test_groups = unique_groups[i * len(unique_groups) // k: (i + 1) * len(unique_groups) // k]\n",
    "        # Находим индексы элементов, которые принадлежат тестовым группам\n",
    "        test_index = np.where(np.isin(group, test_groups))[0]\n",
    "        # Находим индексы для обучающего набора, исключив тестовые индексы\n",
    "        train_index = np.setdiff1d(indices, test_index)\n",
    "\n",
    "        yield train_index, test_index\n",
    "\n",
    "\n",
    "for fold, (train_index, test_index) in enumerate(my_group_kfold(X, group=X['interest_level'], k=3)):\n",
    "    print(f'Fold {fold + 1}')\n",
    "    print(f'Train index {train_index}, Group {X.iloc[train_index][\"interest_level\"].values}')\n",
    "    print(f'Test index {test_index}, Group {X.iloc[test_index][\"interest_level\"].values}')"
   ]
  },
  {
   "cell_type": "code",
   "execution_count": 21,
   "id": "c2e1bd486cbe2131",
   "metadata": {
    "ExecuteTime": {
     "end_time": "2025-03-14T11:15:01.090937Z",
     "start_time": "2025-03-14T11:14:59.905163Z"
    }
   },
   "outputs": [
    {
     "name": "stdout",
     "output_type": "stream",
     "text": [
      "Fold 1\n",
      "Train index [   23    70    82 ... 48340 48341 48342]\n",
      "Test index [    0     1     2 ... 38901 42672 43645]\n",
      "Fold 2\n",
      "Train index [    0     1     2 ... 48340 48341 48342]\n",
      "Test index [  615  1400  1796 ... 46799 46820 47205]\n",
      "Fold 3\n",
      "Train index [    0     1     2 ... 48337 48340 48342]\n",
      "Test index [ 3560  3691  4176 ... 48338 48339 48341]\n"
     ]
    }
   ],
   "source": [
    "def my_stratify_kfold(X, stratify, k=3):\n",
    "    unique_classes = np.unique(stratify)\n",
    "\n",
    "    # Разбиение данных по классам\n",
    "    for i in range(k):\n",
    "        test_index = []\n",
    "        train_index = []\n",
    "\n",
    "        # Разделение каждого класса\n",
    "        for cls in unique_classes:\n",
    "            cls_indices = np.where(stratify == cls)[0]\n",
    "            fold_size = len(cls_indices) // k\n",
    "\n",
    "            # Разделяем индексы этого класса на тестовую и обучающую выборку\n",
    "            test_cls_indices = cls_indices[i * fold_size: (i + 1) * fold_size]\n",
    "            train_cls_indices = np.setdiff1d(cls_indices, test_cls_indices)\n",
    "\n",
    "            test_index.extend(test_cls_indices)\n",
    "            train_index.extend(train_cls_indices)\n",
    "\n",
    "        yield np.sort(train_index), np.sort(test_index)\n",
    "\n",
    "\n",
    "for fold, (train_index, test_index) in enumerate(my_stratify_kfold(X, stratify=y, k=3)):\n",
    "    print(f'Fold {fold + 1}')\n",
    "    print(f'Train index {train_index}')\n",
    "    print(f'Test index {test_index}')"
   ]
  },
  {
   "cell_type": "code",
   "execution_count": 22,
   "id": "3d0452c5db3916e1",
   "metadata": {
    "ExecuteTime": {
     "end_time": "2025-03-14T11:15:01.105523Z",
     "start_time": "2025-03-14T11:15:01.091796Z"
    }
   },
   "outputs": [
    {
     "name": "stdout",
     "output_type": "stream",
     "text": [
      "Fold 1\n",
      "Train index [    0     1     2 ... 16111 16112 16113]\n",
      "Test index [    0     1     2 ... 16111 16112 16113]\n",
      "Fold 2\n",
      "Train index [    0     1     2 ... 32225 32226 32227]\n",
      "Test index [16114 16115 16116 ... 32225 32226 32227]\n",
      "Fold 3\n",
      "Train index [    0     1     2 ... 48340 48341 48342]\n",
      "Test index [32228 32229 32230 ... 48340 48341 48342]\n"
     ]
    }
   ],
   "source": [
    "def my_time_split(X, date, k=3):\n",
    "    X_sorted = X.sort_values(by=date)\n",
    "    indices = np.arange(len(X_sorted))\n",
    "    fold_size = len(X_sorted) // k\n",
    "\n",
    "    for i in range(k):\n",
    "        start = i * fold_size\n",
    "        stop = (i + 1) * fold_size if i != k - 1 else len(X_sorted)\n",
    "\n",
    "        test_index = indices[start:stop]\n",
    "        train_index = indices[:stop]\n",
    "\n",
    "        yield train_index, test_index\n",
    "\n",
    "\n",
    "for fold, (train_index, test_index) in enumerate(my_time_split(X, date='created', k=3)):\n",
    "    print(f'Fold {fold + 1}')\n",
    "    print(f'Train index {train_index}')\n",
    "    print(f'Test index {test_index}')"
   ]
  },
  {
   "cell_type": "markdown",
   "id": "a430f435a13894ec",
   "metadata": {},
   "source": [
    "### 5. Сравнение методов"
   ]
  },
  {
   "cell_type": "code",
   "execution_count": 23,
   "id": "cd2e8948ba35a2aa",
   "metadata": {
    "ExecuteTime": {
     "end_time": "2025-03-14T11:15:01.112871Z",
     "start_time": "2025-03-14T11:15:01.106549Z"
    }
   },
   "outputs": [
    {
     "name": "stdout",
     "output_type": "stream",
     "text": [
      "(48343, 24) (48343,)\n"
     ]
    }
   ],
   "source": [
    "X = result_df.drop('price', axis=1)\n",
    "y = result_df['price']\n",
    "print(X.shape, y.shape)"
   ]
  },
  {
   "cell_type": "code",
   "execution_count": 24,
   "id": "f4afe01ba3410078",
   "metadata": {
    "ExecuteTime": {
     "end_time": "2025-03-14T11:15:01.129233Z",
     "start_time": "2025-03-14T11:15:01.113782Z"
    }
   },
   "outputs": [
    {
     "name": "stdout",
     "output_type": "stream",
     "text": [
      "Size of train set: 38676\n",
      "Size of test set: 9667\n"
     ]
    }
   ],
   "source": [
    "X_train, X_test, y_train, y_test = split_into_two(X, y, test_size=0.2)\n",
    "print(f'Size of train set: {len(X_train)}')\n",
    "print(f'Size of test set: {len(y_test)}')"
   ]
  },
  {
   "cell_type": "code",
   "execution_count": 25,
   "id": "e4056d4923bfcd86",
   "metadata": {
    "ExecuteTime": {
     "end_time": "2025-03-14T11:15:01.147531Z",
     "start_time": "2025-03-14T11:15:01.130386Z"
    }
   },
   "outputs": [
    {
     "name": "stdout",
     "output_type": "stream",
     "text": [
      "Size of train set: 38674\n",
      "Size of test set: 9669\n"
     ]
    }
   ],
   "source": [
    "X_train, X_test, y_train, y_test = train_test_split(X, y, test_size=0.2)\n",
    "print(f'Size of train set: {len(X_train)}')\n",
    "print(f'Size of test set: {len(y_test)}')"
   ]
  },
  {
   "cell_type": "code",
   "execution_count": 26,
   "id": "f9ec398359a6a7a9",
   "metadata": {
    "ExecuteTime": {
     "end_time": "2025-03-14T11:15:01.152422Z",
     "start_time": "2025-03-14T11:15:01.148385Z"
    }
   },
   "outputs": [
    {
     "name": "stdout",
     "output_type": "stream",
     "text": [
      "Fold 0:\n",
      "  Train: index=[12086 12087 12088 ... 48340 48341 48342]\n",
      "  Test:  index=[    0     1     2 ... 12083 12084 12085]\n",
      "Fold 1:\n",
      "  Train: index=[    0     1     2 ... 48340 48341 48342]\n",
      "  Test:  index=[12086 12087 12088 ... 24169 24170 24171]\n",
      "Fold 2:\n",
      "  Train: index=[    0     1     2 ... 48340 48341 48342]\n",
      "  Test:  index=[24172 24173 24174 ... 36255 36256 36257]\n",
      "Fold 3:\n",
      "  Train: index=[    0     1     2 ... 36255 36256 36257]\n",
      "  Test:  index=[36258 36259 36260 ... 48340 48341 48342]\n"
     ]
    }
   ],
   "source": [
    "for i, (train_index, test_index) in enumerate(my_kfold(X, k=4)):\n",
    "    print(f\"Fold {i}:\")\n",
    "    print(f\"  Train: index={train_index}\")\n",
    "    print(f\"  Test:  index={test_index}\")"
   ]
  },
  {
   "cell_type": "code",
   "execution_count": 27,
   "id": "ac93377a8f52484b",
   "metadata": {
    "ExecuteTime": {
     "end_time": "2025-03-14T11:15:01.163036Z",
     "start_time": "2025-03-14T11:15:01.153337Z"
    }
   },
   "outputs": [
    {
     "name": "stdout",
     "output_type": "stream",
     "text": [
      "Fold 0:\n",
      "  Train: index=[12086 12087 12088 ... 48340 48341 48342]\n",
      "  Test:  index=[    0     1     2 ... 12083 12084 12085]\n",
      "Fold 1:\n",
      "  Train: index=[    0     1     2 ... 48340 48341 48342]\n",
      "  Test:  index=[12086 12087 12088 ... 24169 24170 24171]\n",
      "Fold 2:\n",
      "  Train: index=[    0     1     2 ... 48340 48341 48342]\n",
      "  Test:  index=[24172 24173 24174 ... 36255 36256 36257]\n",
      "Fold 3:\n",
      "  Train: index=[    0     1     2 ... 36255 36256 36257]\n",
      "  Test:  index=[36258 36259 36260 ... 48340 48341 48342]\n"
     ]
    }
   ],
   "source": [
    "sk_kf = KFold(n_splits=4)\n",
    "\n",
    "for i, (train_index, test_index) in enumerate(sk_kf.split(X)):\n",
    "    print(f\"Fold {i}:\")\n",
    "    print(f\"  Train: index={train_index}\")\n",
    "    print(f\"  Test:  index={test_index}\")"
   ]
  },
  {
   "cell_type": "code",
   "execution_count": 28,
   "id": "72a563b20e9ff78f",
   "metadata": {
    "ExecuteTime": {
     "end_time": "2025-03-14T11:15:01.178657Z",
     "start_time": "2025-03-14T11:15:01.164016Z"
    }
   },
   "outputs": [
    {
     "name": "stdout",
     "output_type": "stream",
     "text": [
      "Fold 0:\n",
      "  Train: index=[    0     2     3 ... 48340 48341 48342]\n",
      "  Test:  index=[    1     4     5 ... 48336 48337 48338]\n",
      "Fold 1:\n",
      "  Train: index=[    1     4     5 ... 48337 48338 48342]\n",
      "  Test:  index=[    0     2     3 ... 48339 48340 48341]\n",
      "Fold 2:\n",
      "  Train: index=[    0     1     2 ... 48339 48340 48341]\n",
      "  Test:  index=[    7    17    31 ... 48303 48332 48342]\n"
     ]
    }
   ],
   "source": [
    "for i, (train_index, test_index) in enumerate(my_group_kfold(X, group=X['interest_level'], k=3)):\n",
    "    print(f\"Fold {i}:\")\n",
    "    print(f\"  Train: index={train_index}\")\n",
    "    print(f\"  Test:  index={test_index}\")"
   ]
  },
  {
   "cell_type": "code",
   "execution_count": 29,
   "id": "a31c04452e8897b0",
   "metadata": {
    "ExecuteTime": {
     "end_time": "2025-03-14T11:15:01.192580Z",
     "start_time": "2025-03-14T11:15:01.183320Z"
    }
   },
   "outputs": [
    {
     "name": "stdout",
     "output_type": "stream",
     "text": [
      "Fold 0:\n",
      "  Train: index=[    0     2     3 ... 48340 48341 48342]\n",
      "  Test:  index=[    1     4     5 ... 48336 48337 48338]\n",
      "Fold 1:\n",
      "  Train: index=[    1     4     5 ... 48337 48338 48342]\n",
      "  Test:  index=[    0     2     3 ... 48339 48340 48341]\n",
      "Fold 2:\n",
      "  Train: index=[    0     1     2 ... 48339 48340 48341]\n",
      "  Test:  index=[    7    17    31 ... 48303 48332 48342]\n"
     ]
    }
   ],
   "source": [
    "sk_gkf = GroupKFold(n_splits=3)\n",
    "\n",
    "for i, (train_index, test_index) in enumerate(sk_gkf.split(X, groups=X['interest_level'])):\n",
    "    print(f\"Fold {i}:\")\n",
    "    print(f\"  Train: index={train_index}\")\n",
    "    print(f\"  Test:  index={test_index}\")"
   ]
  },
  {
   "cell_type": "code",
   "execution_count": 30,
   "id": "fd6141af2eef14b4",
   "metadata": {
    "ExecuteTime": {
     "end_time": "2025-03-14T11:15:01.229033Z",
     "start_time": "2025-03-14T11:15:01.193739Z"
    }
   },
   "outputs": [
    {
     "name": "stdout",
     "output_type": "stream",
     "text": [
      "Fold 0:\n",
      "  Train: index=[15996 15997 15998 ... 48340 48341 48342]\n",
      "  Test:  index=[    0     1     2 ... 16453 16456 16461]\n",
      "Fold 1:\n",
      "  Train: index=[    0     1     2 ... 48340 48341 48342]\n",
      "  Test:  index=[15996 15997 15998 ... 32352 32358 32361]\n",
      "Fold 2:\n",
      "  Train: index=[    0     1     2 ... 48340 48341 48342]\n",
      "  Test:  index=[32169 32171 32172 ... 48337 48338 48339]\n"
     ]
    }
   ],
   "source": [
    "for i, (train_index, test_index) in enumerate(my_stratify_kfold(X, stratify=X['interest_level'], k=3)):\n",
    "    print(f\"Fold {i}:\")\n",
    "    print(f\"  Train: index={train_index}\")\n",
    "    print(f\"  Test:  index={test_index}\")"
   ]
  },
  {
   "cell_type": "code",
   "execution_count": 31,
   "id": "2e773f99912d59ef",
   "metadata": {
    "ExecuteTime": {
     "end_time": "2025-03-14T11:15:01.240732Z",
     "start_time": "2025-03-14T11:15:01.230687Z"
    }
   },
   "outputs": [
    {
     "name": "stdout",
     "output_type": "stream",
     "text": [
      "Fold 0:\n",
      "  Train: index=[15996 15997 15998 ... 48340 48341 48342]\n",
      "  Test:  index=[    0     1     2 ... 16456 16461 16465]\n",
      "Fold 1:\n",
      "  Train: index=[    0     1     2 ... 48340 48341 48342]\n",
      "  Test:  index=[15996 15997 15998 ... 32361 32367 32371]\n",
      "Fold 2:\n",
      "  Train: index=[    0     1     2 ... 32361 32367 32371]\n",
      "  Test:  index=[32169 32171 32172 ... 48340 48341 48342]\n"
     ]
    }
   ],
   "source": [
    "sk_skf = StratifiedKFold(n_splits=3)\n",
    "\n",
    "for i, (train_index, test_index) in enumerate(sk_skf.split(X, y=X['interest_level'])):\n",
    "    print(f\"Fold {i}:\")\n",
    "    print(f\"  Train: index={train_index}\")\n",
    "    print(f\"  Test:  index={test_index}\")"
   ]
  },
  {
   "cell_type": "code",
   "execution_count": 32,
   "id": "7e330fb0085010e6",
   "metadata": {
    "ExecuteTime": {
     "end_time": "2025-03-14T11:15:01.245760Z",
     "start_time": "2025-03-14T11:15:01.241893Z"
    }
   },
   "outputs": [],
   "source": [
    "def my_time_split(X, date, k=3):\n",
    "    X_sorted = X.sort_values(by=date)\n",
    "    indices = np.arange(len(X_sorted))\n",
    "    fold_size = math.ceil(len(X_sorted) // k)\n",
    "\n",
    "    for i in range(k):\n",
    "        start = (i + 1) * fold_size\n",
    "        end = (i + 2) * fold_size\n",
    "\n",
    "        train_index = indices[:start]\n",
    "        test_index = indices[start:end]\n",
    "\n",
    "        yield train_index, test_index"
   ]
  },
  {
   "cell_type": "code",
   "execution_count": 33,
   "id": "3198dd3fabe37b23",
   "metadata": {
    "ExecuteTime": {
     "end_time": "2025-03-14T11:15:01.293573Z",
     "start_time": "2025-03-14T11:15:01.246542Z"
    }
   },
   "outputs": [
    {
     "name": "stdout",
     "output_type": "stream",
     "text": [
      "Fold 0:\n",
      "  Train: index=[    0     1     2 ... 16111 16112 16113]\n",
      "  Test:  index=[16114 16115 16116 ... 32225 32226 32227]\n",
      "Fold 1:\n",
      "  Train: index=[    0     1     2 ... 32225 32226 32227]\n",
      "  Test:  index=[32228 32229 32230 ... 48339 48340 48341]\n",
      "Fold 2:\n",
      "  Train: index=[    0     1     2 ... 48339 48340 48341]\n",
      "  Test:  index=[48342]\n"
     ]
    }
   ],
   "source": [
    "for i, (train_index, test_index) in enumerate(my_time_split(X, date='created', k=3)):\n",
    "    print(f\"Fold {i}:\")\n",
    "    print(f\"  Train: index={train_index}\")\n",
    "    print(f\"  Test:  index={test_index}\")"
   ]
  },
  {
   "cell_type": "code",
   "execution_count": 34,
   "id": "367d92ad81ac34f9",
   "metadata": {
    "ExecuteTime": {
     "end_time": "2025-03-14T11:15:01.298759Z",
     "start_time": "2025-03-14T11:15:01.294647Z"
    }
   },
   "outputs": [
    {
     "name": "stdout",
     "output_type": "stream",
     "text": [
      "Fold 0:\n",
      "  Train: index=[    0     1     2 ... 12085 12086 12087]\n",
      "  Test:  index=[12088 12089 12090 ... 24170 24171 24172]\n",
      "Fold 1:\n",
      "  Train: index=[    0     1     2 ... 24170 24171 24172]\n",
      "  Test:  index=[24173 24174 24175 ... 36255 36256 36257]\n",
      "Fold 2:\n",
      "  Train: index=[    0     1     2 ... 36255 36256 36257]\n",
      "  Test:  index=[36258 36259 36260 ... 48340 48341 48342]\n"
     ]
    }
   ],
   "source": [
    "sk_tss = TimeSeriesSplit(n_splits=3)\n",
    "\n",
    "for i, (train_index, test_index) in enumerate(sk_tss.split(X, y=X['created'])):\n",
    "    print(f\"Fold {i}:\")\n",
    "    print(f\"  Train: index={train_index}\")\n",
    "    print(f\"  Test:  index={test_index}\")"
   ]
  },
  {
   "cell_type": "markdown",
   "id": "3dc292af93e4b301",
   "metadata": {},
   "source": [
    "### 6. Поиск параметров"
   ]
  },
  {
   "cell_type": "code",
   "execution_count": 35,
   "id": "16f864a3e280647",
   "metadata": {
    "ExecuteTime": {
     "end_time": "2025-03-14T11:15:01.310963Z",
     "start_time": "2025-03-14T11:15:01.299528Z"
    }
   },
   "outputs": [],
   "source": [
    "X = result_df.drop(['created', 'price'], axis=1)\n",
    "y = result_df['price']"
   ]
  },
  {
   "cell_type": "code",
   "execution_count": 36,
   "id": "3d78e50859fb56ab",
   "metadata": {
    "ExecuteTime": {
     "end_time": "2025-03-14T11:15:01.322973Z",
     "start_time": "2025-03-14T11:15:01.311754Z"
    }
   },
   "outputs": [],
   "source": [
    "X_train, X_valid, X_test, y_train, y_valid, y_test = split_into_three(X, y, test_size=0.2,\n",
    "                                                                      validation_size=0.2)  # Info: shuffle=False"
   ]
  },
  {
   "cell_type": "code",
   "execution_count": 37,
   "id": "46dbf1f969110a83",
   "metadata": {
    "ExecuteTime": {
     "end_time": "2025-03-14T11:15:01.326899Z",
     "start_time": "2025-03-14T11:15:01.323859Z"
    }
   },
   "outputs": [],
   "source": [
    "metrics = pd.DataFrame(columns=['name', 'metric', 'train', 'valid', 'test'])"
   ]
  },
  {
   "cell_type": "code",
   "execution_count": 38,
   "id": "708eae2b39003f0f",
   "metadata": {
    "ExecuteTime": {
     "end_time": "2025-03-14T11:15:01.336769Z",
     "start_time": "2025-03-14T11:15:01.327779Z"
    }
   },
   "outputs": [],
   "source": [
    "def write_metrics(model, name, X_train, X_valid, X_test):\n",
    "    y_pred_train = model.predict(X_train)\n",
    "    y_pred_valid = model.predict(X_valid)\n",
    "    y_pred_test = model.predict(X_test)\n",
    "\n",
    "    if name not in metrics['name'].values:\n",
    "        metrics.loc[len(metrics)] = [name, 'R2', r2_score(y_train, y_pred_train),\n",
    "                                     mean_absolute_error(y_train, y_pred_train),\n",
    "                                     np.sqrt(mean_squared_error(y_train, y_pred_train))]\n",
    "        metrics.loc[len(metrics)] = [name, 'MAE', r2_score(y_valid, y_pred_valid),\n",
    "                                     mean_absolute_error(y_valid, y_pred_valid),\n",
    "                                     np.sqrt(mean_squared_error(y_valid, y_pred_valid))]\n",
    "        metrics.loc[len(metrics)] = [name, 'RMSE', r2_score(y_test, y_pred_test),\n",
    "                                     mean_absolute_error(y_test, y_pred_test),\n",
    "                                     np.sqrt(mean_squared_error(y_test, y_pred_test))]\n"
   ]
  },
  {
   "cell_type": "code",
   "execution_count": 39,
   "id": "86861fe80d79e44c",
   "metadata": {
    "ExecuteTime": {
     "end_time": "2025-03-14T11:15:01.598564Z",
     "start_time": "2025-03-14T11:15:01.337706Z"
    }
   },
   "outputs": [
    {
     "name": "stdout",
     "output_type": "stream",
     "text": [
      "Best alpha: 0.9548653759868562\n",
      "Coefficients: [1484.22165089  476.97931121 -405.39409014  219.40302491  -83.53871496\n",
      "   -6.22907031   62.64397499  549.44293187  136.78643156  -82.39140043\n",
      " -181.05643333  189.17720428  -49.64214862  452.44198693  -97.45896539\n",
      "  -46.68470313   97.16973705 -181.86160668  -60.08743073   -0.\n",
      " -173.82045417  -96.08519856  149.51257286]\n"
     ]
    }
   ],
   "source": [
    "lasso_cv = LassoCV(cv=10)\n",
    "lasso_cv.fit(X_train, y_train)\n",
    "print(f'Best alpha: {lasso_cv.alpha_}')\n",
    "print(f'Coefficients: {lasso_cv.coef_}')\n",
    "write_metrics(lasso_cv, 'lasso_default', X_train, X_valid, X_test)"
   ]
  },
  {
   "cell_type": "code",
   "execution_count": 40,
   "id": "6a1ac93ad4c68a6a",
   "metadata": {
    "ExecuteTime": {
     "end_time": "2025-03-14T11:15:01.603980Z",
     "start_time": "2025-03-14T11:15:01.599609Z"
    }
   },
   "outputs": [
    {
     "data": {
      "text/plain": [
       "array([ 0,  7,  1, 13,  2,  3, 11, 17, 10, 20])"
      ]
     },
     "execution_count": 40,
     "metadata": {},
     "output_type": "execute_result"
    }
   ],
   "source": [
    "coefficients = np.abs(lasso_cv.coef_)\n",
    "indices = np.argsort(coefficients)[::-1]\n",
    "top_10_indices = indices[:10]\n",
    "top_10_indices"
   ]
  },
  {
   "cell_type": "code",
   "execution_count": 41,
   "id": "a8e4702136bd3a81",
   "metadata": {
    "ExecuteTime": {
     "end_time": "2025-03-14T11:15:01.613760Z",
     "start_time": "2025-03-14T11:15:01.604962Z"
    }
   },
   "outputs": [],
   "source": [
    "X_train_10_weight = X_train.iloc[:, top_10_indices]\n",
    "X_valid_10_weight = X_valid.iloc[:, top_10_indices]\n",
    "X_test_10_weight = X_test.iloc[:, top_10_indices]"
   ]
  },
  {
   "cell_type": "code",
   "execution_count": 42,
   "id": "4cf5bebef0d1357b",
   "metadata": {
    "ExecuteTime": {
     "end_time": "2025-03-14T11:15:01.829225Z",
     "start_time": "2025-03-14T11:15:01.614694Z"
    }
   },
   "outputs": [],
   "source": [
    "lasso_cv = LassoCV(cv=10)\n",
    "lasso_cv.fit(X_train_10_weight, y_train)\n",
    "write_metrics(lasso_cv, 'X_train_10_weight', X_train_10_weight, X_valid_10_weight, X_test_10_weight)"
   ]
  },
  {
   "cell_type": "code",
   "execution_count": 43,
   "id": "52b98f4c31fec46b",
   "metadata": {
    "ExecuteTime": {
     "end_time": "2025-03-14T11:15:01.930991Z",
     "start_time": "2025-03-14T11:15:01.830245Z"
    }
   },
   "outputs": [
    {
     "name": "stdout",
     "output_type": "stream",
     "text": [
      "['bathrooms', 'bedrooms', 'Doorman', 'Laundry in Unit', 'Fitness Center', 'Dishwasher', 'Dining Room', 'Elevator', 'Outdoor Space', 'Laundry in Building']\n"
     ]
    }
   ],
   "source": [
    "corr_matrix = result_df.drop('created', axis=1).corr()\n",
    "corr_matrix = corr_matrix.sort_values(by='price', ascending=False)\n",
    "top_10_corr = corr_matrix.index[1:11].tolist()\n",
    "print(top_10_corr)"
   ]
  },
  {
   "cell_type": "code",
   "execution_count": 44,
   "id": "9a34d5dede57e69d",
   "metadata": {
    "ExecuteTime": {
     "end_time": "2025-03-14T11:15:01.940208Z",
     "start_time": "2025-03-14T11:15:01.932354Z"
    }
   },
   "outputs": [],
   "source": [
    "X_train_corr = X_train.loc[:, top_10_corr]\n",
    "X_valid_corr = X_valid.loc[:, top_10_corr]\n",
    "X_test_corr = X_test.loc[:, top_10_corr]"
   ]
  },
  {
   "cell_type": "code",
   "execution_count": 45,
   "id": "599b9a6089c7c5ad",
   "metadata": {
    "ExecuteTime": {
     "end_time": "2025-03-14T11:15:02.181728Z",
     "start_time": "2025-03-14T11:15:01.942082Z"
    }
   },
   "outputs": [],
   "source": [
    "lasso_cv = LassoCV(cv=10)\n",
    "lasso_cv.fit(X_train_corr, y_train)\n",
    "write_metrics(lasso_cv, 'X_train_10_correlation', X_train_corr, X_valid_corr, X_test_corr)"
   ]
  },
  {
   "cell_type": "code",
   "execution_count": 46,
   "id": "6ef7c11699be1c78",
   "metadata": {
    "ExecuteTime": {
     "end_time": "2025-03-14T11:15:03.423037Z",
     "start_time": "2025-03-14T11:15:02.182777Z"
    }
   },
   "outputs": [
    {
     "data": {
      "text/plain": [
       "[0, 1, 7, 2, 13, 3, 11, 10, 8, 17]"
      ]
     },
     "execution_count": 46,
     "metadata": {},
     "output_type": "execute_result"
    }
   ],
   "source": [
    "lasso_cv = LassoCV(cv=10)\n",
    "lasso_cv.fit(X_train, y_train)\n",
    "importance = permutation_importance(lasso_cv, X_train, y_train, n_repeats=10)\n",
    "importance_mean = importance.importances_mean\n",
    "sort_importance = np.argsort(importance_mean)[::-1]\n",
    "top_10_importance = sort_importance.tolist()[:10]\n",
    "top_10_importance"
   ]
  },
  {
   "cell_type": "code",
   "execution_count": 47,
   "id": "5f7c7693cb6e5ea0",
   "metadata": {
    "ExecuteTime": {
     "end_time": "2025-03-14T11:15:03.428820Z",
     "start_time": "2025-03-14T11:15:03.423960Z"
    }
   },
   "outputs": [],
   "source": [
    "X_train_10_importance = X_train.iloc[:, top_10_importance]\n",
    "X_valid_10_importance = X_valid.iloc[:, top_10_importance]\n",
    "X_test_10_importance = X_test.iloc[:, top_10_importance]"
   ]
  },
  {
   "cell_type": "code",
   "execution_count": 48,
   "id": "fa3a6e04c608728",
   "metadata": {
    "ExecuteTime": {
     "end_time": "2025-03-14T11:15:03.620477Z",
     "start_time": "2025-03-14T11:15:03.429745Z"
    }
   },
   "outputs": [],
   "source": [
    "lasso_cv = LassoCV(cv=10)\n",
    "lasso_cv.fit(X_train_10_importance, y_train)\n",
    "write_metrics(lasso_cv, 'X_train_10_importance', X_train_10_importance, X_valid_10_importance, X_test_10_importance)"
   ]
  },
  {
   "cell_type": "code",
   "execution_count": 49,
   "id": "cde6910125d4035e",
   "metadata": {
    "ExecuteTime": {
     "end_time": "2025-03-14T11:15:04.510768Z",
     "start_time": "2025-03-14T11:15:03.621356Z"
    }
   },
   "outputs": [],
   "source": [
    "lasso_cv = LassoCV(cv=10)\n",
    "lasso_cv.fit(X_train, y_train)\n",
    "explainer = shap.Explainer(lasso_cv, X_train)\n",
    "shap_values = explainer(X_train)"
   ]
  },
  {
   "cell_type": "code",
   "execution_count": 50,
   "id": "1905f074babd243e",
   "metadata": {
    "ExecuteTime": {
     "end_time": "2025-03-14T11:15:04.516793Z",
     "start_time": "2025-03-14T11:15:04.511721Z"
    }
   },
   "outputs": [
    {
     "data": {
      "text/plain": [
       "[0, 1, 7, 2, 13, 3, 10, 11, 8, 4]"
      ]
     },
     "execution_count": 50,
     "metadata": {},
     "output_type": "execute_result"
    }
   ],
   "source": [
    "importance_values = np.abs(shap_values.values).mean(axis=0)\n",
    "top_10_snap = np.argsort(importance_values)[::-1][:10].tolist()\n",
    "top_10_snap"
   ]
  },
  {
   "cell_type": "code",
   "execution_count": 51,
   "id": "86d9c23ff846bc83",
   "metadata": {
    "ExecuteTime": {
     "end_time": "2025-03-14T11:15:04.524645Z",
     "start_time": "2025-03-14T11:15:04.517544Z"
    }
   },
   "outputs": [],
   "source": [
    "X_train_10_snap = X_train.iloc[:, top_10_snap]\n",
    "X_valid_10_snap = X_valid.iloc[:, top_10_snap]\n",
    "X_test_10_snap = X_test.iloc[:, top_10_snap]"
   ]
  },
  {
   "cell_type": "code",
   "execution_count": 52,
   "id": "2b62c1d6b512291b",
   "metadata": {
    "ExecuteTime": {
     "end_time": "2025-03-14T11:15:04.701139Z",
     "start_time": "2025-03-14T11:15:04.525483Z"
    }
   },
   "outputs": [],
   "source": [
    "lasso_cv = LassoCV(cv=10)\n",
    "lasso_cv.fit(X_train_10_snap, y_train)\n",
    "write_metrics(lasso_cv, 'X_train_10_snap', X_train_10_snap, X_valid_10_snap, X_test_10_snap)"
   ]
  },
  {
   "cell_type": "code",
   "execution_count": 59,
   "id": "11d5edcf0f115a4e",
   "metadata": {
    "ExecuteTime": {
     "end_time": "2025-03-14T11:24:11.738369Z",
     "start_time": "2025-03-14T11:24:11.728523Z"
    }
   },
   "outputs": [
    {
     "name": "stdout",
     "output_type": "stream",
     "text": [
      "                     name metric     train       valid         test\n",
      "0           lasso_default     R2  0.603749  681.920140   993.645153\n",
      "1           lasso_default    MAE  0.619118  683.922809   995.992775\n",
      "2           lasso_default   RMSE  0.591943  694.276119  1008.083576\n",
      "3       X_train_10_weight     R2  0.600161  684.848289   998.133997\n",
      "4       X_train_10_weight    MAE  0.614983  687.842610  1001.385659\n",
      "5       X_train_10_weight   RMSE  0.587363  697.708778  1013.724763\n",
      "6         X_train_10_corr     R2  0.571026  710.923084  1033.859890\n",
      "7         X_train_10_corr    MAE  0.582163  720.474016  1043.193529\n",
      "8         X_train_10_corr   RMSE  0.552046  732.899287  1056.215368\n",
      "9   X_train_10_importance     R2  0.600060  684.400541   998.259653\n",
      "10  X_train_10_importance    MAE  0.614722  686.883612  1001.724218\n",
      "11  X_train_10_importance   RMSE  0.587072  697.032927  1014.082464\n",
      "12        X_train_10_snap     R2  0.599060  685.891285   999.506703\n",
      "13        X_train_10_snap    MAE  0.614239  687.308995  1002.352189\n",
      "14        X_train_10_snap   RMSE  0.587071  696.615633  1014.082924\n"
     ]
    }
   ],
   "source": [
    "print(metrics)"
   ]
  },
  {
   "cell_type": "code",
   "execution_count": 58,
   "id": "1c4f8b2d66d68078",
   "metadata": {
    "ExecuteTime": {
     "end_time": "2025-03-14T11:23:32.834127Z",
     "start_time": "2025-03-14T11:23:32.826482Z"
    }
   },
   "outputs": [
    {
     "name": "stdout",
     "output_type": "stream",
     "text": [
      "                          train                           valid              \\\n",
      "metric                      MAE        R2      RMSE         MAE          R2   \n",
      "name                                                                          \n",
      "X_train_10_corr        0.582163  0.571026  0.552046  720.474016  710.923084   \n",
      "X_train_10_importance  0.614722  0.600060  0.587072  686.883612  684.400541   \n",
      "X_train_10_snap        0.614239  0.599060  0.587071  687.308995  685.891285   \n",
      "X_train_10_weight      0.614983  0.600161  0.587363  687.842610  684.848289   \n",
      "lasso_default          0.619118  0.603749  0.591943  683.922809  681.920140   \n",
      "\n",
      "                                          test                            \n",
      "metric                       RMSE          MAE           R2         RMSE  \n",
      "name                                                                      \n",
      "X_train_10_corr        732.899287  1043.193529  1033.859890  1056.215368  \n",
      "X_train_10_importance  697.032927  1001.724218   998.259653  1014.082464  \n",
      "X_train_10_snap        696.615633  1002.352189   999.506703  1014.082924  \n",
      "X_train_10_weight      697.708778  1001.385659   998.133997  1013.724763  \n",
      "lasso_default          694.276119   995.992775   993.645153  1008.083576  \n"
     ]
    }
   ],
   "source": [
    "print(metrics.pivot(columns='metric', index='name', values=['train', 'valid', 'test']))"
   ]
  },
  {
   "cell_type": "markdown",
   "id": "c7127d0feb75e2c6",
   "metadata": {},
   "source": [
    "### 7. Оптимизация гиперпараметров"
   ]
  },
  {
   "cell_type": "code",
   "execution_count": 78,
   "id": "3694d6493e47814e",
   "metadata": {
    "ExecuteTime": {
     "end_time": "2025-03-14T11:52:43.021045Z",
     "start_time": "2025-03-14T11:51:03.655936Z"
    }
   },
   "outputs": [
    {
     "name": "stdout",
     "output_type": "stream",
     "text": [
      "{'alpha': 0.29470517025518095, 'l1_ratio': 1.0}\n"
     ]
    }
   ],
   "source": [
    "params = {\n",
    "    'alpha': np.logspace(-2, 0, 50),  # логарифмический масштаб для alpha\n",
    "    'l1_ratio': np.linspace(0.1, 1.0, 10)  # более широкий диапазон для l1_ratio\n",
    "}\n",
    "\n",
    "model = ElasticNet(random_state=21)\n",
    "grid = GridSearchCV(model, param_grid=params, cv=10, n_jobs=-1)\n",
    "grid.fit(X_train, y_train)\n",
    "print(grid.best_params_)"
   ]
  },
  {
   "cell_type": "code",
   "execution_count": 79,
   "id": "ceb9d5426907d6ee",
   "metadata": {
    "ExecuteTime": {
     "end_time": "2025-03-14T11:52:44.743757Z",
     "start_time": "2025-03-14T11:52:43.022547Z"
    }
   },
   "outputs": [
    {
     "name": "stdout",
     "output_type": "stream",
     "text": [
      "{'l1_ratio': 1.0, 'alpha': 0.9102981779915218}\n"
     ]
    }
   ],
   "source": [
    "random_search = RandomizedSearchCV(model, param_distributions=params, cv=10)\n",
    "random_search.fit(X_train, y_train)\n",
    "print(random_search.best_params_)"
   ]
  },
  {
   "cell_type": "code",
   "execution_count": 80,
   "id": "529ca538ec039aba",
   "metadata": {
    "ExecuteTime": {
     "end_time": "2025-03-14T11:52:44.757092Z",
     "start_time": "2025-03-14T11:52:44.744877Z"
    }
   },
   "outputs": [],
   "source": [
    "best_grid = grid.best_estimator_\n",
    "write_metrics(best_grid, 'GridSearchCV', X_train, X_valid, X_test)"
   ]
  },
  {
   "cell_type": "code",
   "execution_count": 81,
   "id": "593ca585dff2094a",
   "metadata": {
    "ExecuteTime": {
     "end_time": "2025-03-14T11:52:44.769878Z",
     "start_time": "2025-03-14T11:52:44.758579Z"
    }
   },
   "outputs": [],
   "source": [
    "best_random = random_search.best_estimator_\n",
    "write_metrics(best_random, 'RandomizedSearchCV', X_train, X_valid, X_test)"
   ]
  },
  {
   "cell_type": "code",
   "execution_count": 90,
   "id": "7150d5582591edc4",
   "metadata": {
    "ExecuteTime": {
     "end_time": "2025-03-14T12:19:02.528205Z",
     "start_time": "2025-03-14T12:18:36.635589Z"
    }
   },
   "outputs": [
    {
     "data": {
      "application/vnd.jupyter.widget-view+json": {
       "model_id": "74d49b15501444c0a15c77108bd99fb4",
       "version_major": 2,
       "version_minor": 0
      },
      "text/plain": [
       "  0%|          | 0/100 [00:00<?, ?it/s]"
      ]
     },
     "metadata": {},
     "output_type": "display_data"
    },
    {
     "name": "stdout",
     "output_type": "stream",
     "text": [
      "{'alpha': 0.2760316739507387, 'l1_ratio': 0.9989878323145379}\n"
     ]
    }
   ],
   "source": [
    "def objective(trial):\n",
    "    alpha = trial.suggest_float('alpha', 1e-5, 1e1, log=True)\n",
    "    l1_ratio = trial.suggest_float('l1_ratio', 0.0, 1.0)\n",
    "    \n",
    "    optuna_model = ElasticNet(alpha=alpha, l1_ratio=l1_ratio, random_state=21)\n",
    "    score = cross_val_score(optuna_model, X_train, y_train, cv=10, scoring='r2').mean()\n",
    "    \n",
    "    return score\n",
    "\n",
    "logging.getLogger('optuna').setLevel(logging.WARNING)\n",
    "study = optuna.create_study(direction='maximize')\n",
    "study.optimize(objective, n_trials=100, show_progress_bar=True)\n",
    "\n",
    "print(study.best_params)"
   ]
  },
  {
   "cell_type": "code",
   "execution_count": 92,
   "id": "b0d478382c72ccec",
   "metadata": {
    "ExecuteTime": {
     "end_time": "2025-03-14T12:20:55.022133Z",
     "start_time": "2025-03-14T12:20:55.000777Z"
    }
   },
   "outputs": [],
   "source": [
    "opt_model = ElasticNet(random_state=21, alpha=study.best_params['alpha'], l1_ratio=study.best_params['l1_ratio'])\n",
    "write_metrics(best_random, 'Optuna', X_train, X_valid, X_test)"
   ]
  },
  {
   "cell_type": "code",
   "execution_count": 99,
   "id": "7cc3e78ec86b0648",
   "metadata": {
    "ExecuteTime": {
     "end_time": "2025-03-14T12:22:10.287747Z",
     "start_time": "2025-03-14T12:22:10.282882Z"
    }
   },
   "outputs": [
    {
     "name": "stdout",
     "output_type": "stream",
     "text": [
      "                  name metric     train       valid         test\n",
      "15        GridSearchCV     R2  0.603876  682.245074   993.485985\n",
      "16        GridSearchCV    MAE  0.619238  684.286567   995.835770\n",
      "17        GridSearchCV   RMSE  0.592073  694.596368  1007.922898\n",
      "18  RandomizedSearchCV     R2  0.603883  682.303873   993.477097\n",
      "19  RandomizedSearchCV    MAE  0.619245  684.354688   995.826879\n",
      "20  RandomizedSearchCV   RMSE  0.592080  694.659923  1007.913875\n",
      "21              Optuna     R2  0.603761  681.935209   993.629661\n",
      "22              Optuna    MAE  0.619131  683.939568   995.976788\n",
      "23              Optuna   RMSE  0.591956  694.289610  1008.066584\n"
     ]
    }
   ],
   "source": [
    "print(metrics.iloc[-9:, :])"
   ]
  },
  {
   "cell_type": "code",
   "execution_count": 102,
   "id": "384e4e11007e0f04",
   "metadata": {
    "ExecuteTime": {
     "end_time": "2025-03-14T12:23:56.940125Z",
     "start_time": "2025-03-14T12:23:56.932137Z"
    }
   },
   "outputs": [
    {
     "data": {
      "text/html": [
       "<div>\n",
       "<style scoped>\n",
       "    .dataframe tbody tr th:only-of-type {\n",
       "        vertical-align: middle;\n",
       "    }\n",
       "\n",
       "    .dataframe tbody tr th {\n",
       "        vertical-align: top;\n",
       "    }\n",
       "\n",
       "    .dataframe thead th {\n",
       "        text-align: right;\n",
       "    }\n",
       "</style>\n",
       "<table border=\"1\" class=\"dataframe\">\n",
       "  <thead>\n",
       "    <tr style=\"text-align: right;\">\n",
       "      <th></th>\n",
       "      <th>name</th>\n",
       "      <th>metric</th>\n",
       "      <th>train</th>\n",
       "      <th>valid</th>\n",
       "      <th>test</th>\n",
       "    </tr>\n",
       "  </thead>\n",
       "  <tbody>\n",
       "    <tr>\n",
       "      <th>18</th>\n",
       "      <td>RandomizedSearchCV</td>\n",
       "      <td>R2</td>\n",
       "      <td>0.603883</td>\n",
       "      <td>682.303873</td>\n",
       "      <td>993.477097</td>\n",
       "    </tr>\n",
       "    <tr>\n",
       "      <th>15</th>\n",
       "      <td>GridSearchCV</td>\n",
       "      <td>R2</td>\n",
       "      <td>0.603876</td>\n",
       "      <td>682.245074</td>\n",
       "      <td>993.485985</td>\n",
       "    </tr>\n",
       "    <tr>\n",
       "      <th>21</th>\n",
       "      <td>Optuna</td>\n",
       "      <td>R2</td>\n",
       "      <td>0.603761</td>\n",
       "      <td>681.935209</td>\n",
       "      <td>993.629661</td>\n",
       "    </tr>\n",
       "    <tr>\n",
       "      <th>0</th>\n",
       "      <td>lasso_default</td>\n",
       "      <td>R2</td>\n",
       "      <td>0.603749</td>\n",
       "      <td>681.920140</td>\n",
       "      <td>993.645153</td>\n",
       "    </tr>\n",
       "    <tr>\n",
       "      <th>3</th>\n",
       "      <td>X_train_10_weight</td>\n",
       "      <td>R2</td>\n",
       "      <td>0.600161</td>\n",
       "      <td>684.848289</td>\n",
       "      <td>998.133997</td>\n",
       "    </tr>\n",
       "    <tr>\n",
       "      <th>9</th>\n",
       "      <td>X_train_10_importance</td>\n",
       "      <td>R2</td>\n",
       "      <td>0.600060</td>\n",
       "      <td>684.400541</td>\n",
       "      <td>998.259653</td>\n",
       "    </tr>\n",
       "    <tr>\n",
       "      <th>12</th>\n",
       "      <td>X_train_10_snap</td>\n",
       "      <td>R2</td>\n",
       "      <td>0.599060</td>\n",
       "      <td>685.891285</td>\n",
       "      <td>999.506703</td>\n",
       "    </tr>\n",
       "    <tr>\n",
       "      <th>6</th>\n",
       "      <td>X_train_10_corr</td>\n",
       "      <td>R2</td>\n",
       "      <td>0.571026</td>\n",
       "      <td>710.923084</td>\n",
       "      <td>1033.859890</td>\n",
       "    </tr>\n",
       "  </tbody>\n",
       "</table>\n",
       "</div>"
      ],
      "text/plain": [
       "                     name metric     train       valid         test\n",
       "18     RandomizedSearchCV     R2  0.603883  682.303873   993.477097\n",
       "15           GridSearchCV     R2  0.603876  682.245074   993.485985\n",
       "21                 Optuna     R2  0.603761  681.935209   993.629661\n",
       "0           lasso_default     R2  0.603749  681.920140   993.645153\n",
       "3       X_train_10_weight     R2  0.600161  684.848289   998.133997\n",
       "9   X_train_10_importance     R2  0.600060  684.400541   998.259653\n",
       "12        X_train_10_snap     R2  0.599060  685.891285   999.506703\n",
       "6         X_train_10_corr     R2  0.571026  710.923084  1033.859890"
      ]
     },
     "execution_count": 102,
     "metadata": {},
     "output_type": "execute_result"
    }
   ],
   "source": [
    "metrics[metrics['metric'] == 'R2'].sort_values(by='test', ascending=True)"
   ]
  },
  {
   "cell_type": "code",
   "execution_count": 103,
   "id": "155c76f72a2243a2",
   "metadata": {
    "ExecuteTime": {
     "end_time": "2025-03-14T12:24:22.888933Z",
     "start_time": "2025-03-14T12:24:22.881772Z"
    }
   },
   "outputs": [
    {
     "data": {
      "text/html": [
       "<div>\n",
       "<style scoped>\n",
       "    .dataframe tbody tr th:only-of-type {\n",
       "        vertical-align: middle;\n",
       "    }\n",
       "\n",
       "    .dataframe tbody tr th {\n",
       "        vertical-align: top;\n",
       "    }\n",
       "\n",
       "    .dataframe thead th {\n",
       "        text-align: right;\n",
       "    }\n",
       "</style>\n",
       "<table border=\"1\" class=\"dataframe\">\n",
       "  <thead>\n",
       "    <tr style=\"text-align: right;\">\n",
       "      <th></th>\n",
       "      <th>name</th>\n",
       "      <th>metric</th>\n",
       "      <th>train</th>\n",
       "      <th>valid</th>\n",
       "      <th>test</th>\n",
       "    </tr>\n",
       "  </thead>\n",
       "  <tbody>\n",
       "    <tr>\n",
       "      <th>19</th>\n",
       "      <td>RandomizedSearchCV</td>\n",
       "      <td>MAE</td>\n",
       "      <td>0.619245</td>\n",
       "      <td>684.354688</td>\n",
       "      <td>995.826879</td>\n",
       "    </tr>\n",
       "    <tr>\n",
       "      <th>16</th>\n",
       "      <td>GridSearchCV</td>\n",
       "      <td>MAE</td>\n",
       "      <td>0.619238</td>\n",
       "      <td>684.286567</td>\n",
       "      <td>995.835770</td>\n",
       "    </tr>\n",
       "    <tr>\n",
       "      <th>22</th>\n",
       "      <td>Optuna</td>\n",
       "      <td>MAE</td>\n",
       "      <td>0.619131</td>\n",
       "      <td>683.939568</td>\n",
       "      <td>995.976788</td>\n",
       "    </tr>\n",
       "    <tr>\n",
       "      <th>1</th>\n",
       "      <td>lasso_default</td>\n",
       "      <td>MAE</td>\n",
       "      <td>0.619118</td>\n",
       "      <td>683.922809</td>\n",
       "      <td>995.992775</td>\n",
       "    </tr>\n",
       "    <tr>\n",
       "      <th>4</th>\n",
       "      <td>X_train_10_weight</td>\n",
       "      <td>MAE</td>\n",
       "      <td>0.614983</td>\n",
       "      <td>687.842610</td>\n",
       "      <td>1001.385659</td>\n",
       "    </tr>\n",
       "    <tr>\n",
       "      <th>10</th>\n",
       "      <td>X_train_10_importance</td>\n",
       "      <td>MAE</td>\n",
       "      <td>0.614722</td>\n",
       "      <td>686.883612</td>\n",
       "      <td>1001.724218</td>\n",
       "    </tr>\n",
       "    <tr>\n",
       "      <th>13</th>\n",
       "      <td>X_train_10_snap</td>\n",
       "      <td>MAE</td>\n",
       "      <td>0.614239</td>\n",
       "      <td>687.308995</td>\n",
       "      <td>1002.352189</td>\n",
       "    </tr>\n",
       "    <tr>\n",
       "      <th>7</th>\n",
       "      <td>X_train_10_corr</td>\n",
       "      <td>MAE</td>\n",
       "      <td>0.582163</td>\n",
       "      <td>720.474016</td>\n",
       "      <td>1043.193529</td>\n",
       "    </tr>\n",
       "  </tbody>\n",
       "</table>\n",
       "</div>"
      ],
      "text/plain": [
       "                     name metric     train       valid         test\n",
       "19     RandomizedSearchCV    MAE  0.619245  684.354688   995.826879\n",
       "16           GridSearchCV    MAE  0.619238  684.286567   995.835770\n",
       "22                 Optuna    MAE  0.619131  683.939568   995.976788\n",
       "1           lasso_default    MAE  0.619118  683.922809   995.992775\n",
       "4       X_train_10_weight    MAE  0.614983  687.842610  1001.385659\n",
       "10  X_train_10_importance    MAE  0.614722  686.883612  1001.724218\n",
       "13        X_train_10_snap    MAE  0.614239  687.308995  1002.352189\n",
       "7         X_train_10_corr    MAE  0.582163  720.474016  1043.193529"
      ]
     },
     "execution_count": 103,
     "metadata": {},
     "output_type": "execute_result"
    }
   ],
   "source": [
    "metrics[metrics['metric'] == 'MAE'].sort_values(by='test', ascending=True)"
   ]
  },
  {
   "cell_type": "code",
   "execution_count": 104,
   "id": "e69612fc40cc0781",
   "metadata": {
    "ExecuteTime": {
     "end_time": "2025-03-14T12:24:27.492380Z",
     "start_time": "2025-03-14T12:24:27.485632Z"
    }
   },
   "outputs": [
    {
     "data": {
      "text/html": [
       "<div>\n",
       "<style scoped>\n",
       "    .dataframe tbody tr th:only-of-type {\n",
       "        vertical-align: middle;\n",
       "    }\n",
       "\n",
       "    .dataframe tbody tr th {\n",
       "        vertical-align: top;\n",
       "    }\n",
       "\n",
       "    .dataframe thead th {\n",
       "        text-align: right;\n",
       "    }\n",
       "</style>\n",
       "<table border=\"1\" class=\"dataframe\">\n",
       "  <thead>\n",
       "    <tr style=\"text-align: right;\">\n",
       "      <th></th>\n",
       "      <th>name</th>\n",
       "      <th>metric</th>\n",
       "      <th>train</th>\n",
       "      <th>valid</th>\n",
       "      <th>test</th>\n",
       "    </tr>\n",
       "  </thead>\n",
       "  <tbody>\n",
       "    <tr>\n",
       "      <th>20</th>\n",
       "      <td>RandomizedSearchCV</td>\n",
       "      <td>RMSE</td>\n",
       "      <td>0.592080</td>\n",
       "      <td>694.659923</td>\n",
       "      <td>1007.913875</td>\n",
       "    </tr>\n",
       "    <tr>\n",
       "      <th>17</th>\n",
       "      <td>GridSearchCV</td>\n",
       "      <td>RMSE</td>\n",
       "      <td>0.592073</td>\n",
       "      <td>694.596368</td>\n",
       "      <td>1007.922898</td>\n",
       "    </tr>\n",
       "    <tr>\n",
       "      <th>23</th>\n",
       "      <td>Optuna</td>\n",
       "      <td>RMSE</td>\n",
       "      <td>0.591956</td>\n",
       "      <td>694.289610</td>\n",
       "      <td>1008.066584</td>\n",
       "    </tr>\n",
       "    <tr>\n",
       "      <th>2</th>\n",
       "      <td>lasso_default</td>\n",
       "      <td>RMSE</td>\n",
       "      <td>0.591943</td>\n",
       "      <td>694.276119</td>\n",
       "      <td>1008.083576</td>\n",
       "    </tr>\n",
       "    <tr>\n",
       "      <th>5</th>\n",
       "      <td>X_train_10_weight</td>\n",
       "      <td>RMSE</td>\n",
       "      <td>0.587363</td>\n",
       "      <td>697.708778</td>\n",
       "      <td>1013.724763</td>\n",
       "    </tr>\n",
       "    <tr>\n",
       "      <th>11</th>\n",
       "      <td>X_train_10_importance</td>\n",
       "      <td>RMSE</td>\n",
       "      <td>0.587072</td>\n",
       "      <td>697.032927</td>\n",
       "      <td>1014.082464</td>\n",
       "    </tr>\n",
       "    <tr>\n",
       "      <th>14</th>\n",
       "      <td>X_train_10_snap</td>\n",
       "      <td>RMSE</td>\n",
       "      <td>0.587071</td>\n",
       "      <td>696.615633</td>\n",
       "      <td>1014.082924</td>\n",
       "    </tr>\n",
       "    <tr>\n",
       "      <th>8</th>\n",
       "      <td>X_train_10_corr</td>\n",
       "      <td>RMSE</td>\n",
       "      <td>0.552046</td>\n",
       "      <td>732.899287</td>\n",
       "      <td>1056.215368</td>\n",
       "    </tr>\n",
       "  </tbody>\n",
       "</table>\n",
       "</div>"
      ],
      "text/plain": [
       "                     name metric     train       valid         test\n",
       "20     RandomizedSearchCV   RMSE  0.592080  694.659923  1007.913875\n",
       "17           GridSearchCV   RMSE  0.592073  694.596368  1007.922898\n",
       "23                 Optuna   RMSE  0.591956  694.289610  1008.066584\n",
       "2           lasso_default   RMSE  0.591943  694.276119  1008.083576\n",
       "5       X_train_10_weight   RMSE  0.587363  697.708778  1013.724763\n",
       "11  X_train_10_importance   RMSE  0.587072  697.032927  1014.082464\n",
       "14        X_train_10_snap   RMSE  0.587071  696.615633  1014.082924\n",
       "8         X_train_10_corr   RMSE  0.552046  732.899287  1056.215368"
      ]
     },
     "execution_count": 104,
     "metadata": {},
     "output_type": "execute_result"
    }
   ],
   "source": [
    "metrics[metrics['metric'] == 'RMSE'].sort_values(by='test', ascending=True)"
   ]
  }
 ],
 "metadata": {
  "kernelspec": {
   "display_name": "Python 3 (ipykernel)",
   "language": "python",
   "name": "python3"
  },
  "language_info": {
   "codemirror_mode": {
    "name": "ipython",
    "version": 3
   },
   "file_extension": ".py",
   "mimetype": "text/x-python",
   "name": "python",
   "nbconvert_exporter": "python",
   "pygments_lexer": "ipython3",
   "version": "3.11.11"
  }
 },
 "nbformat": 4,
 "nbformat_minor": 5
}
